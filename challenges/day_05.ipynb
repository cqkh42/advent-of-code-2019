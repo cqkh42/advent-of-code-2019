{
 "cells": [
  {
   "cell_type": "markdown",
   "metadata": {},
   "source": [
    "# [Day 5: Sunny with a Chance of Asteroids](https://adventofcode.com/2019/day/5)"
   ]
  },
  {
   "cell_type": "markdown",
   "metadata": {},
   "source": [
    "## Part 1\n",
    "\n",
    "You're starting to sweat as the ship makes its way toward Mercury. The Elves suggest that you get the air conditioner working by upgrading your ship computer to support the Thermal Environment Supervision Terminal.\n",
    "\n",
    "The Thermal Environment Supervision Terminal (TEST) starts by running a **diagnostic program** (your puzzle input). The TEST diagnostic program will run on your existing Intcode computer after a few modifications:\n",
    "\n",
    "**First**, you'll need to add **two new instructions**:\n",
    "\n",
    "- Opcode `3` takes a single integer as **input** and saves it to the     position given by its only parameter. For example, the instruction     `3,50` would take an input value and store it at address `50`.\n",
    "- Opcode `4` **outputs** the value of its only parameter. For example,   the instruction `4,50` would output the value at address `50`.\n",
    "\n",
    "Programs that use these instructions will come with documentation that explains what should be connected to the input and output. The program `3,0,4,0,99` outputs whatever it gets as input, then halts.\n",
    "\n",
    "**Second**, you'll need to add support for **parameter modes**:\n",
    "\n",
    "Each parameter of an instruction is handled based on its parameter mode. Right now, your ship computer already understands parameter mode `0`, **position mode**, which causes the parameter to be interpreted as a **position** - if the parameter is `50`, its value is **the value stored at address `50` in memory**. Until now, all parameters have been in position mode.\n",
    "\n",
    "Now, your ship computer will also need to handle parameters in mode `1`, **immediate mode**. In immediate mode, a parameter is interpreted as a **value** - if the parameter is `50`, its value is simply **`50`**.\n",
    "\n",
    "Parameter modes are stored in the same value as the instruction's opcode. The opcode is a two-digit number based only on the ones and tens digit of the value, that is, the opcode is the rightmost two digits of the first value in an instruction. Parameter modes are single digits, one per parameter, read right-to-left from the opcode: the first parameter's mode is in the hundreds digit, the second parameter's mode is in the thousands digit, the third parameter's mode is in the ten-thousands digit, and so on. Any missing modes are `0`.\n",
    "\n",
    "For example, consider the program `1002,4,3,4,33`.\n",
    "\n",
    "The first instruction, `1002,4,3,4`, is a **multiply** instruction - the rightmost two digits of the first value, `02`, indicate opcode `2`, multiplication. Then, going right to left, the parameter modes are `0` (hundreds digit), `1` (thousands digit), and `0` (ten-thousands digit, not present and therefore zero):\n",
    "\n",
    "```\n",
    "ABCDE\n",
    "\n",
    " 1002\n",
    " \n",
    "DE - two-digit opcode,      02 == opcode 2\n",
    "\n",
    "C - mode of 1st parameter,  0 == position mode\n",
    "\n",
    "B - mode of 2nd parameter,  1 == immediate mode\n",
    "\n",
    "A - mode of 3rd parameter,  0 == position mode, omitted due to being a leading zero.\n",
    "```\n",
    "\n",
    "This instruction multiplies its first two parameters. The first parameter, `4` in position mode, works like it did before - its value is the value stored at address `4` (`33`). The second parameter, `3` in immediate mode, simply has value `3`. The result of this operation, `33 * 3 = 99`, is written according to the third parameter, `4` in position mode, which also works like it did before - `99` is written to address `4`.\n",
    "\n",
    "Parameters that an instruction writes to will **never be in immediate mode**.\n",
    "\n",
    "**Finally**, some notes:\n",
    "\n",
    "- It is important to remember that the instruction pointer should         increase by **the number of values in the instruction** after the       instruction finishes. Because of the new instructions, this amount is   no longer always `4`.\n",
    "- Integers can be negative: `1101,100,-1,4,0` is a valid program (find   `100 + -1`, store the result in position `4`).\n",
    "\n",
    "The TEST diagnostic program will start by requesting from the user the ID of the system to test by running an **input** instruction - provide it `1`, the ID for the ship's air conditioner unit.\n",
    "\n",
    "It will then perform a series of diagnostic tests confirming that various parts of the Intcode computer, like parameter modes, function correctly. For each test, it will run an **output** instruction indicating how far the result of the test was from the expected value, where `0` means the test was successful. Non-zero outputs mean that a function is not working correctly; check the instructions that were run before the output instruction to see which one failed.\n",
    "\n",
    "Finally, the program will output a **diagnostic code** and immediately halt. This final output isn't an error; an output followed immediately by a halt means the program finished. If all outputs were zero except the diagnostic code, the diagnostic program ran successfully.\n",
    "\n",
    "After providing `1` to the only input instruction and passing all the tests, **what diagnostic code does the program produce?**"
   ]
  },
  {
   "cell_type": "code",
   "execution_count": 9,
   "metadata": {},
   "outputs": [],
   "source": [
    "from pathlib import Path\n",
    "\n",
    "input_path = Path(\"..\") / \"inputs\" / \"day_05.txt\"\n",
    "inputs = input_path.read_text()\n",
    "inputs = inputs.split(\",\")\n",
    "inputs = [int(input_) for input_ in inputs]"
   ]
  },
  {
   "cell_type": "code",
   "execution_count": 10,
   "metadata": {},
   "outputs": [],
   "source": [
    "from computer import Computer"
   ]
  },
  {
   "cell_type": "markdown",
   "metadata": {},
   "source": [
    "### Test Cases"
   ]
  },
  {
   "cell_type": "code",
   "execution_count": 11,
   "metadata": {},
   "outputs": [],
   "source": [
    "intcode_test_cases = [\n",
    "    ([1002, 4, 3, 4, 33], [1], [1002, 4, 3, 4, 99]),\n",
    "    ([1101, 100, -1, 4, 0], [1], [1101, 100, -1, 4, 99])\n",
    "]\n",
    "\n",
    "for intcode, input_, output in intcode_test_cases:\n",
    "    assert Computer(intcode, input_).run().intcode == output"
   ]
  },
  {
   "cell_type": "code",
   "execution_count": 12,
   "metadata": {},
   "outputs": [
    {
     "name": "stdout",
     "output_type": "stream",
     "text": [
      "CPU times: user 191 µs, sys: 320 µs, total: 511 µs\n",
      "Wall time: 526 µs\n"
     ]
    }
   ],
   "source": [
    "%%time\n",
    "computer = Computer(inputs, [1])\n",
    "computer.run()\n",
    "result = computer.outputs[-1]"
   ]
  },
  {
   "cell_type": "code",
   "execution_count": 13,
   "metadata": {},
   "outputs": [
    {
     "name": "stdout",
     "output_type": "stream",
     "text": [
      "Answer to Part 1: 15426686 (15,426,686)\n"
     ]
    }
   ],
   "source": [
    "print(f\"Answer to Part 1: {result} ({result:,})\")"
   ]
  },
  {
   "cell_type": "markdown",
   "metadata": {},
   "source": [
    "# Part 2\n",
    "\n",
    "The air conditioner comes online! Its cold air feels good for a while, but then the TEST alarms start to go off. Since the air conditioner can't vent its heat anywhere but back into the spacecraft, it's actually making the air inside the ship **warmer**.\n",
    "\n",
    "Instead, you'll need to use the TEST to extend the thermal radiators. Fortunately, the diagnostic program (your puzzle input) is already equipped for this. Unfortunately, your Intcode computer is not.\n",
    "\n",
    "Your computer is only missing a few opcodes:\n",
    "\n",
    "- Opcode `5` is **jump-if-true**: if the first parameter is **non-zero**, it sets the instruction pointer to the value from the second parameter. Otherwise, it does nothing.\n",
    "- Opcode `6` is **jump-if-false**: if the first parameter **is zero**, it sets the instruction pointer to the value from the second parameter. Otherwise, it does nothing.\n",
    "- Opcode `7` is **less than**: if the first parameter is **less than** the second parameter, it stores `1` in the position given by the third parameter. Otherwise, it stores `0`.\n",
    "- Opcode `8` is **equals**: if the first parameter is **equal to** the second parameter, it stores `1` in the position given by the third parameter. Otherwise, it stores `0`.\n",
    "\n",
    "Like all instructions, these instructions need to support **parameter modes** as described above.\n",
    "\n",
    "Normally, after an instruction is finished, the instruction pointer increases by the number of values in that instruction. **However**, if the instruction modifies the instruction pointer, that value is used and the instruction pointer is **not automatically increased**.\n",
    "\n",
    "For example, here are several programs that take one input, compare it to the value `8`, and then produce one output:\n",
    "\n",
    "- `3,9,8,9,10,9,4,9,99,-1,8` - Using **position mode**, consider whether the input is **equal to** `8`; output `1` (if it is) or `0`  (if it is not).\n",
    "- `3,9,7,9,10,9,4,9,99,-1,8` - Using **position mode**, consider whether the input is **less than** `8`; output `1` (if it is) or `0`  (if it is not).\n",
    "- `3,3,1108,-1,8,3,4,3,99` - Using **immediate mode**, consider whether the input is **equal to** `8`; output `1` (if it is) or `0` (if it is   not).\n",
    "- `3,3,1107,-1,8,3,4,3,99` - Using **immediate mode**, consider whether the input is **less than** `8`; output `1` (if it is) or `0` (if it is not).\n",
    "\n",
    "Here are some jump tests that take an input, then output `0` if the input was zero or `1` if the input was non-zero:\n",
    "\n",
    "- `3,12,6,12,15,1,13,14,13,4,13,99,-1,0,1,9` (using **position mode**)\n",
    "- `3,3,1105,-1,9,1101,0,0,12,4,12,99,1` (using **immediate mode**)\n",
    "\n",
    "Here's a larger example:\n",
    "\n",
    "`3,21,1008,21,8,20,1005,20,22,107,8,21,20,1006,20,31,1106,0,36,98,0,0,1002,21,125,20,4,20,1105,1,46,104,999,1105,1,46,1101,1000,1,20,4,20,1105,1,46,98,99`\n",
    "\n",
    "The above example program uses an input instruction to ask for a single number. The program will then output `999` if the input value is below `8`, output `1000` if the input value is equal to `8`, or output `1001` if the input value is greater than `8`.\n",
    "\n",
    "This time, when the TEST diagnostic program runs its input instruction to get the ID of the system to test, **provide it `5`**, the ID for the ship's thermal radiator controller. This diagnostic test suite only outputs one number, the **diagnostic code**.\n",
    "\n",
    "**What is the diagnostic code for system ID `5`?**"
   ]
  },
  {
   "cell_type": "markdown",
   "metadata": {},
   "source": [
    "### Test Cases"
   ]
  },
  {
   "cell_type": "code",
   "execution_count": 14,
   "metadata": {},
   "outputs": [],
   "source": [
    "test_cases = [\n",
    "    ([3, 9, 8, 9, 10, 9, 4, 9, 99, -1, 8], [1], 0),\n",
    "    ([3, 9, 8, 9, 10, 9, 4, 9, 99, -1, 8], [8], 1),\n",
    "    ([3, 9, 7, 9, 10, 9, 4, 9, 99, -1, 8], [7], 1),\n",
    "    ([3, 9, 7, 9, 10, 9, 4, 9, 99, -1, 8], [8], 0),\n",
    "    ([3, 9, 7, 9, 10, 9, 4, 9, 99, -1, 8], [9], 0),\n",
    "    ([3, 3, 1108, -1, 8, 3, 4, 3, 99], [8], 1),\n",
    "     ([3, 3, 1108, -1, 8, 3, 4, 3, 99], [7], 0),\n",
    "      ([3, 3, 1107, -1, 8, 3, 4, 3, 99], [7], 1),\n",
    "      ([3, 3, 1107, -1, 8, 3, 4, 3, 99], [8], 0),\n",
    "     ([3, 3, 1107, -1, 8, 3, 4, 3, 99], [9], 0),\n",
    "      ([3, 12, 6, 12, 15, 1, 13, 14, 13, 4, 13, 99, -1, 0, 1, 9], [0], 0),\n",
    "      ([3, 12, 6, 12, 15, 1, 13, 14, 13, 4, 13, 99, -1, 0, 1, 9], [1], 1),\n",
    "     ([3, 3, 1105, -1, 9, 1101, 0, 0, 12, 4, 12, 99, 1], [0], 0),\n",
    "     ([3, 3, 1105, -1, 9, 1101, 0, 0, 12, 4, 12, 99, 1], [1], 1),\n",
    "     ([\n",
    "         3, 21, 1008, 21, 8, 20, 1005, 20, 22, 107, 8, 21, 20, 1006, 20, 31, 1106, 0, 36, 98, 0, 0, 1002, 21, 125, 20, 4, 20, 1105, 1, 46, 104, 999, 1105, \n",
    "         1, 46, 1101, 1000, 1, 20, 4, 20, 1105, 1, 46, 98, 99\n",
    "     ], \n",
    "         [7], 999),\n",
    "     ([\n",
    "         3, 21, 1008, 21, 8, 20, 1005, 20, 22, 107, 8, 21, 20, 1006, 20, 31, 1106, 0, 36, 98, 0, 0, 1002, 21, 125, 20, 4, 20, 1105, 1, 46, 104, 999, 1105,\n",
    "         1, 46, 1101, 1000, 1, 20, 4, 20, 1105, 1, 46, 98, 99\n",
    "     ], \n",
    "         [8], 1000),\n",
    "     ([\n",
    "         3, 21, 1008, 21, 8, 20, 1005, 20, 22, 107, 8, 21, 20, 1006, 20, 31, 1106, 0, 36, 98, 0, 0, 1002, 21, 125, 20, 4, 20, 1105, 1, 46, 104, 999, 1105,\n",
    "         1, 46, 1101, 1000, 1, 20, 4, 20, 1105, 1, 46, 98, 99\n",
    "     ], \n",
    "         [9], 1001)\n",
    " ]\n",
    "\n",
    "for intcode, input_, output in test_cases:\n",
    "    assert Computer(intcode, input_).run().outputs[-1] == output"
   ]
  },
  {
   "cell_type": "code",
   "execution_count": 16,
   "metadata": {},
   "outputs": [
    {
     "name": "stdout",
     "output_type": "stream",
     "text": [
      "CPU times: user 820 µs, sys: 0 ns, total: 820 µs\n",
      "Wall time: 851 µs\n"
     ]
    }
   ],
   "source": [
    "%%time\n",
    "c = Computer(inputs, [5])\n",
    "c.run()\n",
    "result = c.outputs[-1]"
   ]
  },
  {
   "cell_type": "code",
   "execution_count": 17,
   "metadata": {},
   "outputs": [
    {
     "name": "stdout",
     "output_type": "stream",
     "text": [
      "Answer to Part 1: 11430197 (11,430,197)\n"
     ]
    }
   ],
   "source": [
    "print(f\"Answer to Part 2: {result} ({result:,})\")"
   ]
  }
 ],
 "metadata": {
  "kernelspec": {
   "display_name": "Python 3",
   "language": "python",
   "name": "python3"
  },
  "language_info": {
   "codemirror_mode": {
    "name": "ipython",
    "version": 3
   },
   "file_extension": ".py",
   "mimetype": "text/x-python",
   "name": "python",
   "nbconvert_exporter": "python",
   "pygments_lexer": "ipython3",
   "version": "3.7.4"
  }
 },
 "nbformat": 4,
 "nbformat_minor": 4
}
