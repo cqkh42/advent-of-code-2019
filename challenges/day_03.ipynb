{
 "cells": [
  {
   "cell_type": "markdown",
   "metadata": {},
   "source": [
    "# Day 3: Crossed Wires"
   ]
  },
  {
   "cell_type": "markdown",
   "metadata": {},
   "source": [
    "## Part 1\n",
    "\n",
    "The gravity assist was successful, and you're well on your way to the Venus refuelling station. During the rush back on Earth, the fuel management system wasn't completely installed, so that's next on the priority list.\n",
    "\n",
    "Opening the front panel reveals a jumble of wires. Specifically, **two wires** are connected to a central port and extend outward on a grid. You trace the path each wire takes as it leaves the central port, one wire per line of text (your puzzle input).\n",
    "\n",
    "The wires twist and turn, but the two wires occasionally cross paths. To fix the circuit, you need to **find the intersection point closest to the central port**. Because the wires are on a grid, use the Manhattan distance for this measurement. While the wires do technically cross right at the central port where they both start, this point does not count, nor does a wire count as crossing with itself.\n",
    "\n",
    "For example, if the first wire's path is `R8,U5,L5,D3`, then starting from the central port (`o`), it goes right `8`, up `5`, left `5`, and finally down `3`:\n",
    "\n",
    "```\n",
    "...........\n",
    "...........\n",
    "...........\n",
    "....+----+.\n",
    "....|....|.\n",
    "....|....|.\n",
    "....|....|.\n",
    ".........|.\n",
    ".o-------+.\n",
    "...........\n",
    "```\n",
    "\n",
    "Then, if the second wire's path is `U7,R6,D4,L4`, it goes up `7`, right `6`, down `4`, and left `4`:\n",
    "\n",
    "```\n",
    "...........\n",
    ".+-----+...\n",
    ".|.....|...\n",
    ".|..+--X-+.\n",
    ".|..|..|.|.\n",
    ".|.-X--+.|.\n",
    ".|..|....|.\n",
    ".|.......|.\n",
    ".o-------+.\n",
    "...........\n",
    "```\n",
    "\n",
    "These wires cross at two locations (marked `X`), but the lower-left one is closer to the central port: its distance is `3 + 3 = 6`.\n",
    "\n",
    "Here are a few more examples:\n",
    "\n",
    "- `R75,D30,R83,U83,L12,D49,R71,U7,L72`\n",
    "  `U62,R66,U55,R34,D71,R55,D58,R83` = distance `159`\n",
    "- `R98,U47,R26,D63,R33,U87,L62,D20,R33,U53,R51`\n",
    "  `U98,R91,D20,R16,D67,R40,U7,R15,U6,R7` = distance `135`\n",
    "\n",
    "What is the Manhattan distance from the central port to the closest intersection?"
   ]
  },
  {
   "cell_type": "code",
   "execution_count": 1,
   "metadata": {},
   "outputs": [],
   "source": [
    "from pathlib import Path\n",
    "\n",
    "input_path = Path(\"..\") / \"inputs\" / \"day_3.txt\"\n",
    "inputs = input_path.read_text()\n",
    "path_1, path_2 = inputs.split(\"\\n\")\n",
    "path_1 = path_1.split(\",\")\n",
    "path_2 = path_2.split(\",\")"
   ]
  },
  {
   "cell_type": "code",
   "execution_count": 2,
   "metadata": {},
   "outputs": [],
   "source": [
    "def path_to_tuples(path):\n",
    "    return [(step[0], int(step[1:])) for step in path]"
   ]
  },
  {
   "cell_type": "code",
   "execution_count": 3,
   "metadata": {},
   "outputs": [],
   "source": [
    "def draw_path(path):\n",
    "    start = (0, 0)\n",
    "    covered = [start]\n",
    "    \n",
    "    func_map = {\n",
    "        \"R\": lambda step: (x + step, y),\n",
    "        \"L\": lambda step: (x - step, y),\n",
    "        \"U\": lambda step: (x, y + step),\n",
    "        \"D\": lambda step: (x, y - step)\n",
    "    }\n",
    "    \n",
    "    for direction, distance in path:\n",
    "        x, y = covered.pop()\n",
    "        steps = range(distance + 1)\n",
    "        func = func_map[direction]\n",
    "        walk = (func(step) for step in steps)\n",
    "        covered.extend(walk)\n",
    "    return covered"
   ]
  },
  {
   "cell_type": "code",
   "execution_count": 4,
   "metadata": {},
   "outputs": [],
   "source": [
    "def intersection_distance(path_1, path_2):\n",
    "    p_1 = path_to_tuples(path_1)\n",
    "    p_1 = draw_path(p_1)\n",
    "\n",
    "    p_2 = path_to_tuples(path_2)\n",
    "    p_2 = draw_path(p_2)\n",
    "    intersections = set(p_1).intersection(p_2)\n",
    "    absolutes = [\n",
    "        [abs(coord) for coord in cross] \n",
    "        for cross in intersections\n",
    "        if cross != (0, 0)\n",
    "    ]\n",
    "    distances = [\n",
    "        sum(intersection) \n",
    "        for intersection in absolutes \n",
    "    ]\n",
    "    return min(distances)"
   ]
  },
  {
   "cell_type": "markdown",
   "metadata": {},
   "source": [
    "### Test Cases"
   ]
  },
  {
   "cell_type": "code",
   "execution_count": 5,
   "metadata": {},
   "outputs": [],
   "source": [
    "test_cases = [\n",
    "    ((\n",
    "        [\"R75\", \"D30\", \"R83\", \"U83\", \"L12\", \"D49\", \"R71\", \"U7\", \"L72\"], \n",
    "        [\"U62\", \"R66\", \"U55\", \"R34\", \"D71\", \"R55\", \"D58\", \"R83\"]\n",
    "    ), 159),\n",
    "    ((\n",
    "        [\"R98\", \"U47\", \"R26\", \"D63\", \"R33\", \"U87\", \"L62\", \"D20\", \"R33\", \"U53\", \"R51\"],\n",
    "        [\"U98\", \"R91\", \"D20\", \"R16\", \"D67\", \"R40\", \"U7\", \"R15\", \"U6\", \"R7\"]\n",
    "    ), 135)\n",
    "]\n",
    "\n",
    "for (input_1, input_2), output in test_cases:\n",
    "    assert intersection_distance(input_1, input_2) == output"
   ]
  },
  {
   "cell_type": "code",
   "execution_count": 6,
   "metadata": {},
   "outputs": [
    {
     "data": {
      "text/plain": [
       "221"
      ]
     },
     "execution_count": 6,
     "metadata": {},
     "output_type": "execute_result"
    }
   ],
   "source": [
    "intersection_distance(path_1, path_2)"
   ]
  },
  {
   "cell_type": "markdown",
   "metadata": {},
   "source": [
    "Answer to Part 1: **221**"
   ]
  },
  {
   "cell_type": "markdown",
   "metadata": {},
   "source": [
    "# Part 2\n",
    "\n",
    "It turns out that this circuit is very timing-sensitive; you actually need to **minimize the signal delay**.\n",
    "\n",
    "To do this, calculate the **number of steps** each wire takes to reach each intersection; choose the intersection where the **sum of both wires' steps** is lowest. If a wire visits a position on the grid multiple times, use the steps value from the first time it visits that position when calculating the total value of a specific intersection.\n",
    "\n",
    "The number of steps a wire takes is the total number of grid squares the wire has entered to get to that location, including the intersection being considered. Again consider the example from above:\n",
    "\n",
    "```\n",
    "...........\n",
    ".+-----+...\n",
    ".|.....|...\n",
    ".|..+--X-+.\n",
    ".|..|..|.|.\n",
    ".|.-X--+.|.\n",
    ".|..|....|.\n",
    ".|.......|.\n",
    ".o-------+.\n",
    "...........\n",
    "```\n",
    "\n",
    "In the above example, the intersection closest to the central port is reached after `8+5+5+2 = `**`20`** steps by the first wire and `7+6+4+3 = `**`20`** steps by the second wire for a total of `20+20 = `**`40`** steps.\n",
    "\n",
    "However, the top-right intersection is better: the first wire takes only `8+5+2 = `**`15`** and the second wire takes only `7+6+2 = `**`15`**, a total of `15+15 = `**`30`** steps.\n",
    "\n",
    "Here are the best steps for the extra examples from above:\n",
    "\n",
    "- `R75,D30,R83,U83,L12,D49,R71,U7,L72`\n",
    "  `U62,R66,U55,R34,D71,R55,D58,R83` = `610` steps\n",
    "- `R98,U47,R26,D63,R33,U87,L62,D20,R33,U53,R51`\n",
    "  `U98,R91,D20,R16,D67,R40,U7,R15,U6,R7` = `410` steps\n",
    "  \n",
    "**What is the fewest combined steps the wires must take to reach an intersection?**"
   ]
  },
  {
   "cell_type": "code",
   "execution_count": 7,
   "metadata": {},
   "outputs": [],
   "source": [
    "def fewest_combined_steps(path_1, path_2):\n",
    "    p_1 = path_to_tuples(path_1)\n",
    "    p_1 = draw_path(p_1)\n",
    "\n",
    "    p_2 = path_to_tuples(path_2)\n",
    "    p_2 = draw_path(p_2)\n",
    "    \n",
    "    intersections = set(p_1).intersection(p_2)\n",
    "    intersections.remove((0, 0))\n",
    "    \n",
    "    distances = [\n",
    "        p_1.index(intersection) + p_2.index(intersection) \n",
    "        for intersection in intersections\n",
    "    ]\n",
    "    return min(distances)"
   ]
  },
  {
   "cell_type": "markdown",
   "metadata": {},
   "source": [
    "### Test Cases"
   ]
  },
  {
   "cell_type": "code",
   "execution_count": 8,
   "metadata": {},
   "outputs": [],
   "source": [
    "test_cases = [\n",
    "    ((\n",
    "        [\"R75\", \"D30\", \"R83\", \"U83\", \"L12\", \"D49\", \"R71\", \"U7\", \"L72\"], \n",
    "        [\"U62\", \"R66\", \"U55\", \"R34\", \"D71\", \"R55\", \"D58\", \"R83\"]\n",
    "    ), 610),\n",
    "    ((\n",
    "        [\"R98\", \"U47\", \"R26\", \"D63\", \"R33\", \"U87\", \"L62\", \"D20\", \"R33\", \"U53\", \"R51\"],\n",
    "        [\"U98\", \"R91\", \"D20\", \"R16\", \"D67\", \"R40\", \"U7\", \"R15\", \"U6\", \"R7\"]\n",
    "    ), 410)\n",
    "]\n",
    "\n",
    "for (input_1, input_2), output in test_cases:\n",
    "    assert fewest_combined_steps(input_1, input_2) == output"
   ]
  },
  {
   "cell_type": "code",
   "execution_count": 9,
   "metadata": {},
   "outputs": [
    {
     "data": {
      "text/plain": [
       "18542"
      ]
     },
     "execution_count": 9,
     "metadata": {},
     "output_type": "execute_result"
    }
   ],
   "source": [
    "fewest_combined_steps(path_1, path_2)"
   ]
  },
  {
   "cell_type": "markdown",
   "metadata": {},
   "source": [
    "Answer to Part 2: **18542**"
   ]
  }
 ],
 "metadata": {
  "kernelspec": {
   "display_name": "Python 3",
   "language": "python",
   "name": "python3"
  },
  "language_info": {
   "codemirror_mode": {
    "name": "ipython",
    "version": 3
   },
   "file_extension": ".py",
   "mimetype": "text/x-python",
   "name": "python",
   "nbconvert_exporter": "python",
   "pygments_lexer": "ipython3",
   "version": "3.7.4"
  }
 },
 "nbformat": 4,
 "nbformat_minor": 4
}
