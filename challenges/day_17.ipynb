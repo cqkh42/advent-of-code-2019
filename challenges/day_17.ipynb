{
 "cells": [
  {
   "cell_type": "markdown",
   "metadata": {},
   "source": [
    "# [Day 17: Set and Forget](https://adventofcode.com/2019/day/17)"
   ]
  },
  {
   "cell_type": "markdown",
   "metadata": {},
   "source": [
    "## Part 1\n",
    "\n",
    "An early warning system detects an incoming solar flare and automatically activates the ship's electromagnetic shield. Unfortunately, this has cut off the Wi-Fi for many small robots that, unaware of the impending danger, are now trapped on exterior scaffolding on the unsafe side of the shield. To rescue them, you'll have to act quickly!\n",
    "\n",
    "The only tools at your disposal are some wired cameras and a small vacuum robot currently asleep at its charging station. The video quality is poor, but the vacuum robot has a needlessly bright LED that makes it easy to spot no matter where it is.\n",
    "\n",
    "An Intcode program, the **Aft Scaffolding Control and Information Interface** (ASCII, your puzzle input), provides access to the cameras and the vacuum robot. Currently, because the vacuum robot is asleep, you can only access the cameras.\n",
    "\n",
    "Running the ASCII program on your Intcode computer will provide the current view of the scaffolds. This is output, purely coincidentally, as ASCII code: `35` means `#`, `46` means `.`, `10` starts a new line of output below the current one, and so on. (Within a line, characters are drawn left-to-right.)\n",
    "\n",
    "In the camera output, `#` represents a scaffold and `.` represents open space. The vacuum robot is visible as `^`, `v`, `<`, or `>` depending on whether it is facing up, down, left, or right respectively. When drawn like this, the vacuum robot is **always on a scaffold**; if the vacuum robot ever walks off of a scaffold and begins **tumbling through space uncontrollably**, it will instead be visible as X.\n",
    "\n",
    "In general, the scaffold forms a path, but it sometimes loops back onto itself. For example, suppose you can see the following view from the cameras:\n",
    "\n",
    "```\n",
    "..#..........\n",
    "..#..........\n",
    "#######...###\n",
    "#.#...#...#.#\n",
    "#############\n",
    "..#...#...#..\n",
    "..#####...^..\n",
    "```\n",
    "\n",
    "Here, the vacuum robot, ^ is facing up and sitting at one end of the scaffold near the bottom-right of the image. The scaffold continues up, loops across itself several times, and ends at the top-left of the image.\n",
    "\n",
    "The first step is to calibrate the cameras by getting the **alignment parameters** of some well-defined points. Locate all **scaffold intersections**; for each, its alignment parameter is the distance between its left edge and the left edge of the view multiplied by the distance between its top edge and the top edge of the view. Here, the intersections from the above image are marked `O`:\n",
    "\n",
    "```\n",
    "..#..........\n",
    "..#..........\n",
    "##O####...###\n",
    "#.#...#...#.#\n",
    "##O###O###O##\n",
    "..#...#...#..\n",
    "..#####...^..\n",
    "```\n",
    "\n",
    "For these intersections:\n",
    "\n",
    "- The top-left intersection is `2` units from the left of the image and `2` units from the top of the image, so its alignment parameter is `2 * 2 = `**`4`**.\n",
    "- The bottom-left intersection is `2` units from the left and `4` units from the top, so its alignment parameter is `2 * 4 = `**`8`.\n",
    "- The bottom-middle intersection is `6` from the left and `4` from the top, so its alignment parameter is **`24`**.\n",
    "- The bottom-right intersection's alignment parameter is **`40`**.\n",
    "\n",
    "To calibrate the cameras, you need the **sum of the alignment parameters**. In the above example, this is **`76`**.\n",
    "\n",
    "Run your ASCII program. **What is the sum of the alignment parameters** for the scaffold intersections?"
   ]
  },
  {
   "cell_type": "code",
   "execution_count": 1,
   "metadata": {},
   "outputs": [],
   "source": [
    "from pathlib import Path\n",
    "\n",
    "input_path = Path(\"..\") / \"inputs\" / \"day_17.txt\"\n",
    "inputs = input_path.read_text()\n",
    "inputs = inputs.split(\",\")\n",
    "inputs = [int(input_) for input_ in inputs]"
   ]
  },
  {
   "cell_type": "code",
   "execution_count": 2,
   "metadata": {},
   "outputs": [],
   "source": [
    "from computer import Computer"
   ]
  },
  {
   "cell_type": "code",
   "execution_count": 3,
   "metadata": {},
   "outputs": [],
   "source": [
    "computer = Computer(inputs, [])\n",
    "computer.run()\n",
    "scaffolding = computer.outputs"
   ]
  },
  {
   "cell_type": "code",
   "execution_count": 4,
   "metadata": {},
   "outputs": [],
   "source": [
    "scaffolding = \"\".join([chr(i) for i in scaffolding])\n",
    "scaffolding = scaffolding.split(\"\\n\")[:-2]"
   ]
  },
  {
   "cell_type": "code",
   "execution_count": 5,
   "metadata": {},
   "outputs": [],
   "source": [
    "def horizontal_intersections(scaffolding):\n",
    "    for row_index, row in enumerate(scaffolding):\n",
    "        z = zip(row, row[1:], row[2:])\n",
    "        for index, zz in enumerate(z):\n",
    "            if set(zz) == {\"#\"}:\n",
    "                yield row_index, index+1"
   ]
  },
  {
   "cell_type": "code",
   "execution_count": 6,
   "metadata": {},
   "outputs": [],
   "source": [
    "def vertical_intersections(scaffolding):\n",
    "    for row_index, row in enumerate(zip(*scaffolding)):\n",
    "        z = zip(row, row[1:], row[2:])\n",
    "        for index, zz in enumerate(z):\n",
    "            if set(zz) == {\"#\"}:\n",
    "                yield index+1, row_index"
   ]
  },
  {
   "cell_type": "code",
   "execution_count": 7,
   "metadata": {},
   "outputs": [],
   "source": [
    "hors = set(horizontal_intersections(scaffolding))\n",
    "vert = set(vertical_intersections(scaffolding))"
   ]
  },
  {
   "cell_type": "code",
   "execution_count": 8,
   "metadata": {},
   "outputs": [
    {
     "data": {
      "text/plain": [
       "7584"
      ]
     },
     "execution_count": 8,
     "metadata": {},
     "output_type": "execute_result"
    }
   ],
   "source": [
    "sum([(coords[0]*coords[1]) for coords in hors.intersection(vert)])"
   ]
  },
  {
   "cell_type": "markdown",
   "metadata": {},
   "source": [
    "Answer to Part 1: **7584**"
   ]
  },
  {
   "cell_type": "markdown",
   "metadata": {},
   "source": [
    "## Part Two\n",
    "\n",
    "Now for the tricky part: notifying all the other robots about the solar flare. The vacuum robot can do this automatically if it gets into range of a robot. However, you can't see the other robots on the camera, so you need to be thorough instead: you need to make the vacuum robot **visit every part of the scaffold at least once**.\n",
    "\n",
    "The vacuum robot normally wanders randomly, but there isn't time for that today. Instead, you can **override its movement logic** with new rules.\n",
    "\n",
    "Force the vacuum robot to wake up by changing the value in your ASCII program at address `0` from `1` to **`2`**. When you do this, you will be automatically prompted for the new movement rules that the vacuum robot should use. The ASCII program will use input instructions to receive them, but they need to be provided as ASCII code; end each line of logic with a single newline, ASCII code `10`.\n",
    "\n",
    "First, you will be prompted for the **main movement routine**. The main routine may only call the **movement functions**: `A`, `B`, or `C`. Supply the movement functions to use as ASCII text, separating them with commas (`,`, ASCII code `44`), and ending the list with a newline (ASCII code `10`). For example, to call `A` twice, then alternate between `B` and `C` three times, provide the string `A,A,B,C,B,C,B,C` and then a newline.\n",
    "\n",
    "Then, you will be prompted for each **movement function**. Movement functions may use `L` to **turn left**, `R` to **turn right**, or a number to **move forward** that many units. Movement functions may not call other movement functions. Again, separate the actions with commas and end the list with a newline. For example, to move forward `10` units, turn left, move forward `8` units, turn right, and finally move forward `6` units, provide the string `10,L,8,R,6` and then a newline.\n",
    "\n",
    "Finally, you will be asked whether you want to see a **continuous video feed**; provide either `y` or `n` and a newline. Enabling the continuous video feed can help you see what's going on, but it also requires a significant amount of processing power, and may even cause your Intcode computer to overheat.\n",
    "\n",
    "Due to the limited amount of memory in the vacuum robot, the ASCII definitions of the main routine and the movement functions may each contain **at most 20 characters**, not counting the newline.\n",
    "\n",
    "For example, consider the following camera feed:\n",
    "\n",
    "```\n",
    "#######...#####\n",
    "#.....#...#...#\n",
    "#.....#...#...#\n",
    "......#...#...#\n",
    "......#...###.#\n",
    "......#.....#.#\n",
    "^########...#.#\n",
    "......#.#...#.#\n",
    "......#########\n",
    "........#...#..\n",
    "....#########..\n",
    "....#...#......\n",
    "....#...#......\n",
    "....#...#......\n",
    "....#####......\n",
    "```\n",
    "\n",
    "In order for the vacuum robot to **visit every part of the scaffold at least once**, one path it could take is:\n",
    "\n",
    "`R,8,R,8,R,4,R,4,R,8,L,6,L,2,R,4,R,4,R,8,R,8,R,8,L,6,L,2`\n",
    "Without the memory limit, you could just supply this whole string to function A and have the main routine call `A` once. However, you'll need to split it into smaller parts.\n",
    "\n",
    "One approach is:\n",
    "\n",
    "- **Main routine: `A,B,C,B,A,C`**\n",
    "    - (ASCII input: `65`, `44`, `66`, `44`, `67`, `44`, `66`, `44`, `65`, `44`, `67`, `10`)\n",
    "- **Function `A`: `R,8,R,8`**\n",
    "    - (ASCII input: `82`, `44`, `56`, `44`, `82`, `44`, `56`, `10`)\n",
    "- **Function `B`: `R,4,R,4,R,8**\n",
    "    - (ASCII input: `82`, `44`, `52`, `44`, `82`, `44`, `52`, `44`, `82`, `44`, `56`, `10`)\n",
    "- **Function `C`: `L,6,L,2`**\n",
    "    - (ASCII input: `76`, `44`, `54`, `44`, `76`, `44`, `50`, `10`)\n",
    "    \n",
    "Visually, this would break the desired path into the following parts:\n",
    "\n",
    "```\n",
    "A,        B,            C,        B,            A,        C\n",
    "R,8,R,8,  R,4,R,4,R,8,  L,6,L,2,  R,4,R,4,R,8,  R,8,R,8,  L,6,L,2\n",
    "\n",
    "CCCCCCA...BBBBB\n",
    "C.....A...B...B\n",
    "C.....A...B...B\n",
    "......A...B...B\n",
    "......A...CCC.B\n",
    "......A.....C.B\n",
    "^AAAAAAAA...C.B\n",
    "......A.A...C.B\n",
    "......AAAAAA#AB\n",
    "........A...C..\n",
    "....BBBB#BBBB..\n",
    "....B...A......\n",
    "....B...A......\n",
    "....B...A......\n",
    "....BBBBA......\n",
    "```\n",
    "\n",
    "Of course, the scaffolding outside your ship is much more complex.\n",
    "\n",
    "As the vacuum robot finds other robots and notifies them of the impending solar flare, it also can't help but leave them squeaky clean, collecting any space dust it finds. Once it finishes the programmed set of movements, assuming it hasn't drifted off into space, the cleaning robot will return to its docking station and report the amount of space dust it collected as a large, non-ASCII value in a single output instruction.\n",
    "\n",
    "After visiting every part of the scaffold at least once, **how much dust does the vacuum robot report it has collected?**"
   ]
  },
  {
   "cell_type": "code",
   "execution_count": 9,
   "metadata": {},
   "outputs": [],
   "source": [
    "import numpy as np\n",
    "\n",
    "\n",
    "\n",
    "def move(current, movement):\n",
    "    move_dict = {\n",
    "        (\"U\", \"L\"): \"L\",\n",
    "        (\"U\", \"R\"): \"R\",\n",
    "        (\"R\", \"L\"): \"U\",\n",
    "        (\"R\", \"R\"): \"D\",\n",
    "        (\"D\", \"L\"): \"R\",\n",
    "        (\"D\", \"R\"): \"L\",\n",
    "        (\"L\", \"L\"): \"D\",\n",
    "        (\"L\", \"R\"): \"U\"\n",
    "    }\n",
    "    return move_dict[(current, movement)]"
   ]
  },
  {
   "cell_type": "code",
   "execution_count": 10,
   "metadata": {},
   "outputs": [],
   "source": [
    "sc = np.array([list(i) for i in scaffolding])\n",
    "current_direction = \"U\"\n",
    "\n",
    "step_map = {\n",
    "    \"A\": [(\"R\", 4), (\"R\", 12), (\"R\", 10), (\"L\", 12)],\n",
    "    \"B\": [(\"L\", 12), (\"R\", 4), (\"R\", 12)],\n",
    "    \"C\": [(\"L\", 12), (\"L\", 8), (\"R\", 10),]\n",
    "}\n",
    "\n",
    "step_letters = [\"A\", \"B\", \"B\", \"C\", \"C\", \"A\", \"B\", \"B\", \"C\", \"A\"]\n",
    "\n",
    "steps = [step_map[step] for step in step_letters]\n",
    "steps = [a for b in steps for a in b]\n",
    "\n",
    "for direction, distance in steps:\n",
    "    current_direction = move(current_direction, direction)\n",
    "    current_location = np.where(np.isin(sc, [\"^\", \">\", \"v\", \"<\"]))\n",
    "    current_location = (current_location[0][0], current_location[1][0])\n",
    "    a, c = current_location\n",
    "    d = c+1 \n",
    "    b = a+1\n",
    "    if current_direction == \"R\":\n",
    "        d = c+distance       \n",
    "        sc[a:b, c:d] = \"X\"\n",
    "        sc[a, d] = \">\"\n",
    "    elif current_direction == \"D\":\n",
    "        b = a+distance\n",
    "        sc[a:b, c:d] = \"X\"\n",
    "        sc[b, c] = \"v\"\n",
    "    elif current_direction == \"L\":\n",
    "        c = c - distance\n",
    "        sc[a:b, c:d] = \"X\"\n",
    "        sc[a, c] = \"<\"\n",
    "    elif current_direction == \"U\":\n",
    "        a = a - distance\n",
    "        sc[a:b, c:d] = \"X\"\n",
    "        sc[a, c] = \"^\""
   ]
  },
  {
   "cell_type": "code",
   "execution_count": 11,
   "metadata": {},
   "outputs": [
    {
     "name": "stdout",
     "output_type": "stream",
     "text": [
      "................................XXXXX....\n",
      "....................................X....\n",
      "....................................X....\n",
      "....................................X....\n",
      "....................................X....\n",
      "....................................X....\n",
      "....................................X....\n",
      "....................................X....\n",
      "....................................X....\n",
      "....................................X....\n",
      "....................................X....\n",
      "....................................X....\n",
      "..........................XXXXXXXXXXX....\n",
      "..........................X..............\n",
      "..........................X..............\n",
      "..........................X..............\n",
      "................<XXXXXXXXXXXX............\n",
      "..........................X.X............\n",
      "..............XXXXX.......X.X............\n",
      "..............X...X.......X.X............\n",
      "..............X...X.......X.X............\n",
      "..............X...X.......X.X............\n",
      "..............X...X.......X.X.XXXXXXXXXXX\n",
      "..............X...X.......X.X.X.........X\n",
      "..............X...X.......XXXXXXXXXXXXX.X\n",
      "..............X...X.........X.X.......X.X\n",
      "..............X...X.........XXXXXXXXXXXXX\n",
      "..............X...X...........X.......X..\n",
      "..........XXXXXXXXXXXXX...XXXXXXXXXXXXX..\n",
      "..........X...X...X...X...X...X..........\n",
      "..XXXXXXXXXXXXX...XXXXXXXXXXXXX..........\n",
      "..X.......X...........X...X..............\n",
      "..X.......X...........X...X..............\n",
      "..X.......X...........X...X..............\n",
      "..XXXXXXXXXXXXX.......X...X..............\n",
      "..........X...X.......X...X..............\n",
      "XXXXXXXXXXX...X.......X...X..............\n",
      "X.............X.......X...X..............\n",
      "X.............X.......X...X..............\n",
      "X.............X.......X...X..............\n",
      "X.............X.......XXXXX..............\n",
      "X.............X..........................\n",
      "X.............X..........................\n",
      "X.............X..........................\n",
      "X.............X..........................\n",
      "X.............X..........................\n",
      "X...XXXXXXXXXXX..........................\n",
      "X...X....................................\n",
      "XXXXXXXXX................................\n",
      "....X...X................................\n",
      "....X...X................................\n",
      "....X...X................................\n",
      "....X...X................................\n",
      "....X...X................................\n",
      "....X...X................................\n",
      "....X...X................................\n",
      "....X...X................................\n",
      "....X...X................................\n",
      "....XXXXX................................\n"
     ]
    }
   ],
   "source": [
    "for i in sc:\n",
    "    print(\"\".join(i))"
   ]
  },
  {
   "cell_type": "code",
   "execution_count": 12,
   "metadata": {},
   "outputs": [],
   "source": [
    "inputs[0] = 2"
   ]
  },
  {
   "cell_type": "code",
   "execution_count": 13,
   "metadata": {},
   "outputs": [],
   "source": [
    "movements = [ord(char) for char in \",\".join(step_letters)]\n",
    "a = [ord(char) for char in \",\".join([str(a) for b in step_map[\"A\"] for a in b])]\n",
    "b = [ord(char) for char in \",\".join([str(a) for b in step_map[\"B\"] for a in b])]\n",
    "c = [ord(char) for char in \",\".join([str(a) for b in step_map[\"C\"] for a in b])]\n",
    "view = ord(\"n\")\n",
    "newline = ord(\"\\n\")\n",
    "instructions = [*movements, newline, *a, newline, *b, newline, *c, newline, view, newline]"
   ]
  },
  {
   "cell_type": "code",
   "execution_count": 14,
   "metadata": {},
   "outputs": [],
   "source": [
    "computer = Computer(inputs, instructions)"
   ]
  },
  {
   "cell_type": "code",
   "execution_count": 15,
   "metadata": {},
   "outputs": [
    {
     "data": {
      "text/plain": [
       "<computer.Computer at 0x7fc1981ae610>"
      ]
     },
     "execution_count": 15,
     "metadata": {},
     "output_type": "execute_result"
    }
   ],
   "source": [
    "computer.run()"
   ]
  },
  {
   "cell_type": "code",
   "execution_count": 16,
   "metadata": {},
   "outputs": [
    {
     "data": {
      "text/plain": [
       "1016738"
      ]
     },
     "execution_count": 16,
     "metadata": {},
     "output_type": "execute_result"
    }
   ],
   "source": [
    "computer.outputs[-1]"
   ]
  },
  {
   "cell_type": "markdown",
   "metadata": {},
   "source": [
    "Answer to Part 2: **1016738**"
   ]
  }
 ],
 "metadata": {
  "kernelspec": {
   "display_name": "Python 3",
   "language": "python",
   "name": "python3"
  },
  "language_info": {
   "codemirror_mode": {
    "name": "ipython",
    "version": 3
   },
   "file_extension": ".py",
   "mimetype": "text/x-python",
   "name": "python",
   "nbconvert_exporter": "python",
   "pygments_lexer": "ipython3",
   "version": "3.7.4"
  }
 },
 "nbformat": 4,
 "nbformat_minor": 4
}
