{
 "cells": [
  {
   "cell_type": "markdown",
   "metadata": {},
   "source": [
    "# [Day 6: Universal Orbit Map](https://adventofcode.com/2019/day/6)"
   ]
  },
  {
   "cell_type": "markdown",
   "metadata": {},
   "source": [
    "## Part 1\n",
    "\n",
    "You've landed at the Universal Orbit Map facility on Mercury. Because navigation in space often involves transferring between orbits, the orbit maps here are useful for finding efficient routes between, for example, you and Santa. You download a map of the local orbits (your puzzle input).\n",
    "\n",
    "Except for the universal Center of Mass (`COM`), every object in space is in orbit around exactly one other object. An orbit looks roughly like this:\n",
    "\n",
    "```\n",
    "                  \\\n",
    "                   \\\n",
    "                    |\n",
    "                    |\n",
    "AAA--> o            o <--BBB\n",
    "                    |\n",
    "                    |\n",
    "                   /\n",
    "                  /\n",
    "```\n",
    "\n",
    "In this diagram, the object `BBB` is in orbit around `AAA`. The path that BBB takes around AAA (drawn with lines) is only partly shown. In the map data, this orbital relationship is written `AAA)BBB`, which means \"`BBB` is in orbit around `AAA`\".\n",
    "\n",
    "Before you use your map data to plot a course, you need to make sure it wasn't corrupted during the download. To verify maps, the Universal Orbit Map facility uses **orbit count checksums** - the total number of **direct orbits** (like the one shown above) and **indirect orbits**.\n",
    "\n",
    "Whenever `A` orbits `B` and `B` orbits `C`, then `A` **indirectly orbits** `C`. This chain can be any number of objects long: if `A` orbits `B`, `B` orbits `C`, and `C` orbits `D`, then `A` indirectly orbits `D`.\n",
    "\n",
    "For example, suppose you have the following map:\n",
    "\n",
    "```\n",
    "COM)B\n",
    "B)C\n",
    "C)D\n",
    "D)E\n",
    "E)F\n",
    "B)G\n",
    "G)H\n",
    "D)I\n",
    "E)J\n",
    "J)K\n",
    "K)L\n",
    "```\n",
    "\n",
    "Visually, the above map of orbits looks like this:\n",
    "\n",
    "```\n",
    "        G - H       J - K - L\n",
    "       /           /\n",
    "COM - B - C - D - E - F\n",
    "               \\\n",
    "                I\n",
    "```                \n",
    "\n",
    "In this visual representation, when two objects are connected by a line, the one on the right directly orbits the one on the left.\n",
    "\n",
    "Here, we can count the total number of orbits as follows:\n",
    "- `D` directly orbits `C` and indirectly orbits `B` and `COM`, a total of `3` orbits.\n",
    "- `L` directly orbits `K` and indirectly orbits `J`, `E`, `D`, `C`, `B`, and `COM`, a total of `7` orbits.\n",
    "- `COM` orbits nothing.\n",
    "\n",
    "The total number of direct and indirect orbits in this example is **`42`**.\n",
    "\n",
    "**What is the total number of direct and indirect orbits** in your map data?"
   ]
  },
  {
   "cell_type": "code",
   "execution_count": 6,
   "metadata": {},
   "outputs": [],
   "source": [
    "from pathlib import Path\n",
    "\n",
    "input_path = Path(\"..\") / \"inputs\" / \"day_06.txt\"\n",
    "inputs = input_path.read_text()\n",
    "inputs = inputs.split(\"\\n\")"
   ]
  },
  {
   "cell_type": "code",
   "execution_count": 7,
   "metadata": {},
   "outputs": [],
   "source": [
    "def count_orbits(orbits):\n",
    "    orbits = dict(reversed(orbit.split(\")\")) for orbit in orbits)\n",
    "    planets = {*orbits, *orbits.values()}\n",
    "    \n",
    "    distances = {}\n",
    "    \n",
    "    for planet in planets:\n",
    "        planet_trace = planet\n",
    "        counter = 0\n",
    "        while planet_trace != \"COM\":\n",
    "            planet_trace = orbits[planet_trace]\n",
    "            counter += 1\n",
    "        distances[planet] = counter\n",
    "        \n",
    "    return sum(distances.values())"
   ]
  },
  {
   "cell_type": "markdown",
   "metadata": {},
   "source": [
    "### Test Cases"
   ]
  },
  {
   "cell_type": "code",
   "execution_count": 8,
   "metadata": {},
   "outputs": [],
   "source": [
    "test_cases = [\n",
    "    ([\n",
    "        \"COM)B\", \"B)C\", \"C)D\", \"D)E\", \"E)F\", \"B)G\", \"G)H\", \"D)I\", \n",
    "        \"E)J\", \"J)K\", \"K)L\"\n",
    "    ],\n",
    "        42\n",
    "    )\n",
    "]\n",
    "\n",
    "for input_, output in test_cases:\n",
    "    assert count_orbits(input_) == output "
   ]
  },
  {
   "cell_type": "code",
   "execution_count": 9,
   "metadata": {},
   "outputs": [
    {
     "name": "stdout",
     "output_type": "stream",
     "text": [
      "CPU times: user 58.5 ms, sys: 0 ns, total: 58.5 ms\n",
      "Wall time: 57.9 ms\n"
     ]
    }
   ],
   "source": [
    "%%time\n",
    "result = count_orbits(inputs)"
   ]
  },
  {
   "cell_type": "code",
   "execution_count": 10,
   "metadata": {},
   "outputs": [
    {
     "name": "stdout",
     "output_type": "stream",
     "text": [
      "Answer to Part 1: 308790 (308,790)\n"
     ]
    }
   ],
   "source": [
    "print(f\"Answer to Part 1: {result} ({result:,})\")"
   ]
  },
  {
   "cell_type": "markdown",
   "metadata": {},
   "source": [
    "## Part 2\n",
    "\n",
    "Now, you just need to figure out how many **orbital transfers** you (`YOU`) need to take to get to Santa (`SAN`).\n",
    "\n",
    "You start at the object `YOU` are orbiting; your destination is the object `SAN` is orbiting. An orbital transfer lets you move from any object to an object orbiting or orbited by that object.\n",
    "\n",
    "For example, suppose you have the following map:\n",
    "```\n",
    "COM)B\n",
    "B)C\n",
    "C)D\n",
    "D)E\n",
    "E)F\n",
    "B)G\n",
    "G)H\n",
    "D)I\n",
    "E)J\n",
    "J)K\n",
    "K)L\n",
    "K)YOU\n",
    "I)SAN\n",
    "```\n",
    "\n",
    "Visually, the above map of orbits looks like this:\n",
    "\n",
    "```\n",
    "                          YOU\n",
    "                         /\n",
    "        G - H       J - K - L\n",
    "       /           /\n",
    "COM - B - C - D - E - F\n",
    "               \\\n",
    "                I - SAN\n",
    "```\n",
    "\n",
    "In this example, `YOU` are in orbit around `K`, and `SAN` is in orbit around `I`. To move from `K` to `I`, a minimum of `4` orbital transfers are required:\n",
    "- `K` to `J`\n",
    "- `J` to `E`\n",
    "- `E` to `D`\n",
    "- `D` to `I`\n",
    "\n",
    "Afterward, the map of orbits looks like this:\n",
    "\n",
    "```\n",
    "        G - H       J - K - L\n",
    "       /           /\n",
    "COM - B - C - D - E - F\n",
    "               \\\n",
    "                I - SAN\n",
    "                 \\\n",
    "                  YOU\n",
    "```\n",
    "\n",
    "**What is the minimum number of orbital transfers required** to move from the object `YOU` are orbiting to the object `SAN` is orbiting? (Between the objects they are orbiting - **not** between `YOU` and `SAN`.)"
   ]
  },
  {
   "cell_type": "code",
   "execution_count": 11,
   "metadata": {},
   "outputs": [],
   "source": [
    "from collections import defaultdict\n",
    "\n",
    "def count_orbital_injections(object_1, object_2, orbits):\n",
    "    orbits = dict(reversed(orbit.split(\")\")) for orbit in orbits)\n",
    "    visited = defaultdict(dict)\n",
    "\n",
    "    for planet in [object_1, object_2]:\n",
    "        distance = -1\n",
    "        planet_trace = planet\n",
    "        while planet_trace != \"COM\":\n",
    "            planet_trace = orbits[planet_trace]\n",
    "            distance += 1\n",
    "            visited[planet][planet_trace] = distance\n",
    "    common_planets = set(\n",
    "        visited[object_1]\n",
    "    ).intersection(visited[object_2])\n",
    "    distances = [\n",
    "        visited[object_1][planet] + visited[object_2][planet] \n",
    "        for planet in common_planets\n",
    "    ]\n",
    "    return min(distances)"
   ]
  },
  {
   "cell_type": "markdown",
   "metadata": {},
   "source": [
    "### Test Cases"
   ]
  },
  {
   "cell_type": "code",
   "execution_count": 12,
   "metadata": {},
   "outputs": [],
   "source": [
    "test_cases = [\n",
    "    ([\n",
    "        \"COM)B\", \"B)C\", \"C)D\", \"D)E\", \"E)F\", \"B)G\", \"G)H\", \"D)I\", \n",
    "        \"E)J\", \"J)K\", \"K)L\", \"K)YOU\", \"I)SAN\"\n",
    "    ],\n",
    "        \"YOU\", \"SAN\", 4\n",
    "    )\n",
    "]\n",
    "\n",
    "for input_, obj_1, obj_2, output in test_cases:\n",
    "    assert count_orbital_injections(obj_1, obj_2, input_) == output "
   ]
  },
  {
   "cell_type": "code",
   "execution_count": 13,
   "metadata": {},
   "outputs": [
    {
     "name": "stdout",
     "output_type": "stream",
     "text": [
      "CPU times: user 2.07 ms, sys: 0 ns, total: 2.07 ms\n",
      "Wall time: 2.11 ms\n"
     ]
    }
   ],
   "source": [
    "%%time\n",
    "result = count_orbital_injections(\"YOU\", \"SAN\", inputs)"
   ]
  },
  {
   "cell_type": "code",
   "execution_count": 15,
   "metadata": {},
   "outputs": [
    {
     "name": "stdout",
     "output_type": "stream",
     "text": [
      "Answer to Part 1: 472\n"
     ]
    }
   ],
   "source": [
    "print(f\"Answer to Part 2: {result}\")"
   ]
  }
 ],
 "metadata": {
  "kernelspec": {
   "display_name": "Python 3",
   "language": "python",
   "name": "python3"
  },
  "language_info": {
   "codemirror_mode": {
    "name": "ipython",
    "version": 3
   },
   "file_extension": ".py",
   "mimetype": "text/x-python",
   "name": "python",
   "nbconvert_exporter": "python",
   "pygments_lexer": "ipython3",
   "version": "3.7.4"
  }
 },
 "nbformat": 4,
 "nbformat_minor": 4
}
