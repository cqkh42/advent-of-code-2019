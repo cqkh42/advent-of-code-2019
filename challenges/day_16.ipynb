{
 "cells": [
  {
   "cell_type": "markdown",
   "metadata": {},
   "source": [
    "# [Day 16: Flawed Frequency Transmission](https://adventofcode.com/2019/day/16)"
   ]
  },
  {
   "cell_type": "markdown",
   "metadata": {},
   "source": [
    "## Part 1\n",
    "\n",
    "You're 3/4ths of the way through the gas giants. Not only do roundtrip signals to Earth take five hours, but the signal quality is quite bad as well. You can clean up the signal with the Flawed Frequency Transmission algorithm, or **FFT**.\n",
    "\n",
    "As input, FFT takes a list of numbers. In the signal you received (your puzzle input), each number is a single digit: data like `15243` represents the sequence `1`, `5`, `2`, `4`, `3`.\n",
    "\n",
    "FFT operates in repeated **phases**. In each phase, a new list is constructed with the same length as the input list. This new list is also used as the input for the next phase.\n",
    "\n",
    "Each element in the new list is built by multiplying every value in the input list by a value in a repeating **pattern** and then adding up the results. So, if the input list were `9, 8, 7, 6, 5` and the pattern for a given element were `1, 2, 3`, the result would be `9*1 + 8*2 + 7*3 + 6*1 + 5*2` (with each input element on the left and each value in the repeating pattern on the right of each multiplication). Then, only the ones digit is kept: `38` becomes `8`, `-17` becomes `7`, and so on.\n",
    "\n",
    "While each element in the output array uses all of the same input array elements, the actual repeating pattern to use depends on **which output element** is being calculated. The base pattern is `0, 1, 0, -1`. Then, repeat each value in the pattern a number of times equal to the **position in the output list** being considered. Repeat once for the first element, twice for the second element, three times for the third element, and so on. So, if the third element of the output list is being calculated, repeating the values would produce: `0, 0, 0, 1, 1, 1, 0, 0, 0, -1, -1, -1`.\n",
    "\n",
    "When applying the pattern, skip the very first value exactly once. (In other words, offset the whole pattern left by one.) So, for the second element of the output list, the actual pattern used would be: `0, 1, 1, 0, 0, -1, -1, 0, 0, 1, 1, 0, 0, -1, -1, ...`.\n",
    "\n",
    "After using this process to calculate each element of the output list, the phase is complete, and the output list of this phase is used as the new input list for the next phase, if any.\n",
    "\n",
    "Given the input signal `12345678`, below are four phases of FFT. Within each phase, each output digit is calculated on a single line with the result at the far right; each multiplication operation shows the input digit on the left and the pattern value on the right:\n",
    "\n",
    "```\n",
    "Input signal: 12345678\n",
    "\n",
    "1*1  + 2*0  + 3*-1 + 4*0  + 5*1  + 6*0  + 7*-1 + 8*0  = 4\n",
    "1*0  + 2*1  + 3*1  + 4*0  + 5*0  + 6*-1 + 7*-1 + 8*0  = 8\n",
    "1*0  + 2*0  + 3*1  + 4*1  + 5*1  + 6*0  + 7*0  + 8*0  = 2\n",
    "1*0  + 2*0  + 3*0  + 4*1  + 5*1  + 6*1  + 7*1  + 8*0  = 2\n",
    "1*0  + 2*0  + 3*0  + 4*0  + 5*1  + 6*1  + 7*1  + 8*1  = 6\n",
    "1*0  + 2*0  + 3*0  + 4*0  + 5*0  + 6*1  + 7*1  + 8*1  = 1\n",
    "1*0  + 2*0  + 3*0  + 4*0  + 5*0  + 6*0  + 7*1  + 8*1  = 5\n",
    "1*0  + 2*0  + 3*0  + 4*0  + 5*0  + 6*0  + 7*0  + 8*1  = 8\n",
    "\n",
    "After 1 phase: 48226158\n",
    "\n",
    "4*1  + 8*0  + 2*-1 + 2*0  + 6*1  + 1*0  + 5*-1 + 8*0  = 3\n",
    "4*0  + 8*1  + 2*1  + 2*0  + 6*0  + 1*-1 + 5*-1 + 8*0  = 4\n",
    "4*0  + 8*0  + 2*1  + 2*1  + 6*1  + 1*0  + 5*0  + 8*0  = 0\n",
    "4*0  + 8*0  + 2*0  + 2*1  + 6*1  + 1*1  + 5*1  + 8*0  = 4\n",
    "4*0  + 8*0  + 2*0  + 2*0  + 6*1  + 1*1  + 5*1  + 8*1  = 0\n",
    "4*0  + 8*0  + 2*0  + 2*0  + 6*0  + 1*1  + 5*1  + 8*1  = 4\n",
    "4*0  + 8*0  + 2*0  + 2*0  + 6*0  + 1*0  + 5*1  + 8*1  = 3\n",
    "4*0  + 8*0  + 2*0  + 2*0  + 6*0  + 1*0  + 5*0  + 8*1  = 8\n",
    "\n",
    "After 2 phases: 34040438\n",
    "\n",
    "3*1  + 4*0  + 0*-1 + 4*0  + 0*1  + 4*0  + 3*-1 + 8*0  = 0\n",
    "3*0  + 4*1  + 0*1  + 4*0  + 0*0  + 4*-1 + 3*-1 + 8*0  = 3\n",
    "3*0  + 4*0  + 0*1  + 4*1  + 0*1  + 4*0  + 3*0  + 8*0  = 4\n",
    "3*0  + 4*0  + 0*0  + 4*1  + 0*1  + 4*1  + 3*1  + 8*0  = 1\n",
    "3*0  + 4*0  + 0*0  + 4*0  + 0*1  + 4*1  + 3*1  + 8*1  = 5\n",
    "3*0  + 4*0  + 0*0  + 4*0  + 0*0  + 4*1  + 3*1  + 8*1  = 5\n",
    "3*0  + 4*0  + 0*0  + 4*0  + 0*0  + 4*0  + 3*1  + 8*1  = 1\n",
    "3*0  + 4*0  + 0*0  + 4*0  + 0*0  + 4*0  + 3*0  + 8*1  = 8\n",
    "\n",
    "After 3 phases: 03415518\n",
    "\n",
    "0*1  + 3*0  + 4*-1 + 1*0  + 5*1  + 5*0  + 1*-1 + 8*0  = 0\n",
    "0*0  + 3*1  + 4*1  + 1*0  + 5*0  + 5*-1 + 1*-1 + 8*0  = 1\n",
    "0*0  + 3*0  + 4*1  + 1*1  + 5*1  + 5*0  + 1*0  + 8*0  = 0\n",
    "0*0  + 3*0  + 4*0  + 1*1  + 5*1  + 5*1  + 1*1  + 8*0  = 2\n",
    "0*0  + 3*0  + 4*0  + 1*0  + 5*1  + 5*1  + 1*1  + 8*1  = 9\n",
    "0*0  + 3*0  + 4*0  + 1*0  + 5*0  + 5*1  + 1*1  + 8*1  = 4\n",
    "0*0  + 3*0  + 4*0  + 1*0  + 5*0  + 5*0  + 1*1  + 8*1  = 9\n",
    "0*0  + 3*0  + 4*0  + 1*0  + 5*0  + 5*0  + 1*0  + 8*1  = 8\n",
    "\n",
    "After 4 phases: 01029498\n",
    "```\n",
    "\n",
    "Here are the first eight digits of the final output list after 100 phases for some larger inputs:\n",
    "\n",
    "- `80871224585914546619083218645595` becomes `24176176`.\n",
    "- `19617804207202209144916044189917` becomes `73745418`.\n",
    "- `69317163492948606335995924319873` becomes `52432133`.\n",
    "\n",
    "After **100** phases of FFT, **what are the first eight digits in the final output list?**"
   ]
  },
  {
   "cell_type": "code",
   "execution_count": 1,
   "metadata": {},
   "outputs": [],
   "source": [
    "from pathlib import Path\n",
    "input_path = Path(\"..\") / \"inputs\" / \"day_16.txt\"\n",
    "inputs = input_path.read_text()\n",
    "inputs = list(inputs)\n",
    "inputs = [int(num) for num in inputs]"
   ]
  },
  {
   "cell_type": "markdown",
   "metadata": {},
   "source": [
    "### Test Cases"
   ]
  },
  {
   "cell_type": "code",
   "execution_count": 2,
   "metadata": {},
   "outputs": [],
   "source": [
    "import itertools\n",
    "base_pattern = [0, 1, 0, -1]\n",
    "\n",
    "def process_loop(index, signal):\n",
    "\n",
    "    pattern  = itertools.chain.from_iterable(itertools.repeat(x, index) for x in base_pattern)\n",
    "    g = itertools.cycle(pattern)\n",
    "    next(g)\n",
    "    z = ((a * b) for a, b in zip(signal, g))\n",
    "    final = str(sum(z))[-1]\n",
    "    return int(final)"
   ]
  },
  {
   "cell_type": "code",
   "execution_count": 3,
   "metadata": {},
   "outputs": [],
   "source": [
    "def run_phases(signal, phases):\n",
    "    for _ in range(phases):\n",
    "        signal = [process_loop(index+1, signal) for index in range(len(signal))]\n",
    "    return [str(i) for i in signal]"
   ]
  },
  {
   "cell_type": "code",
   "execution_count": 4,
   "metadata": {},
   "outputs": [],
   "source": [
    "test_cases = [\n",
    "    (\"80871224585914546619083218645595\", \"24176176\"),\n",
    "    (\"19617804207202209144916044189917\", \"73745418\"),\n",
    "    (\"69317163492948606335995924319873\", \"52432133\")\n",
    "]\n",
    "\n",
    "for input_, output in test_cases:\n",
    "    listed = [int(num) for num in input_]\n",
    "    r = run_phases(listed, 100)\n",
    "    assert run_phases(listed, 100)[:8] == list(output)[:8]"
   ]
  },
  {
   "cell_type": "code",
   "execution_count": 5,
   "metadata": {},
   "outputs": [
    {
     "data": {
      "text/plain": [
       "'84487724'"
      ]
     },
     "execution_count": 5,
     "metadata": {},
     "output_type": "execute_result"
    }
   ],
   "source": [
    "\"\".join(run_phases(inputs, 100)[:8])"
   ]
  },
  {
   "cell_type": "markdown",
   "metadata": {},
   "source": [
    "Answer to Part 1: **84487724**"
   ]
  },
  {
   "cell_type": "markdown",
   "metadata": {},
   "source": [
    "## Part 2\n",
    "\n",
    "Now that your FFT is working, you can decode the **real signal**.\n",
    "\n",
    "The real signal is your puzzle input **repeated 10000 times**. Treat this new signal as a single input list. Patterns are still calculated as before, and 100 phases of FFT are still applied.\n",
    "\n",
    "The **first seven digits** of your initial input signal also represent the **message offset**. The message offset is the location of the eight-digit message in the final output list. Specifically, the message offset indicates **the number of digits to skip** before reading the eight-digit message. For example, if the first seven digits of your initial input signal were `1234567`, the eight-digit message would be the eight digits after skipping 1,234,567 digits of the final output list. Or, if the message offset were `7` and your final output list were `98765432109876543210`, the eight-digit message would be `21098765`. (Of course, your real message offset will be a seven-digit number, not a one-digit number like `7`.)\n",
    "\n",
    "Here is the eight-digit message in the final output list after 100 phases. The message offset given in each input has been highlighted. (Note that the inputs given below are repeated 10000 times to find the actual starting input lists.)\n",
    "\n",
    "- **`0303673`**`2577212944063491565474664` becomes `84462026`.\n",
    "- **`0293510`**`9699940807407585447034323` becomes `78725270`.\n",
    "- **`0308177`**`0884921959731165446850517` becomes `53553731`.\n",
    "\n",
    "After repeating your input signal 10000 times and running 100 phases of FFT, **what is the eight-digit message embedded in the final output list?**"
   ]
  },
  {
   "cell_type": "code",
   "execution_count": 6,
   "metadata": {},
   "outputs": [],
   "source": [
    "def do_iteration(numbers):\n",
    "    sum_ = 0\n",
    "    result = []\n",
    "    for num in numbers[-1::-1]:\n",
    "        sum_ += num\n",
    "        result.append(sum_)\n",
    "    result = [abs(num) % 10 for num in result]\n",
    "    result.reverse()\n",
    "    return result\n",
    "\n",
    "def run_it_all(numbers, iters):\n",
    "    for _ in range(iters):\n",
    "        numbers = do_iteration(numbers)\n",
    "    return \"\".join([str(i) for i in numbers[:8]])"
   ]
  },
  {
   "cell_type": "markdown",
   "metadata": {},
   "source": [
    "## Test Cases"
   ]
  },
  {
   "cell_type": "code",
   "execution_count": 7,
   "metadata": {},
   "outputs": [],
   "source": [
    "test_cases = [\n",
    "    (\"03036732577212944063491565474664\", \"84462026\"),\n",
    "    (\"02935109699940807407585447034323\", \"78725270\"),\n",
    "    (\"03081770884921959731165446850517\", \"53553731\")\n",
    "]\n",
    "\n",
    "for test_input, expected in test_cases:\n",
    "    listed = [int(num) for num in test_input] * 10000\n",
    "    skip = int(\"\".join([str(i) for i in listed[:7]]))\n",
    "    post_skip = listed[skip:]\n",
    "    assert run_it_all(post_skip, 100) == expected"
   ]
  },
  {
   "cell_type": "code",
   "execution_count": 8,
   "metadata": {},
   "outputs": [
    {
     "data": {
      "text/plain": [
       "'84692524'"
      ]
     },
     "execution_count": 8,
     "metadata": {},
     "output_type": "execute_result"
    }
   ],
   "source": [
    "listed = [int(num) for num in inputs] * 10000\n",
    "skip = int(\"\".join([str(i) for i in listed[:7]]))\n",
    "post_skip = listed[skip:]\n",
    "run_it_all(post_skip, 100)"
   ]
  },
  {
   "cell_type": "markdown",
   "metadata": {},
   "source": [
    "Answer to Part 2: **84692524**"
   ]
  }
 ],
 "metadata": {
  "kernelspec": {
   "display_name": "Python 3",
   "language": "python",
   "name": "python3"
  },
  "language_info": {
   "codemirror_mode": {
    "name": "ipython",
    "version": 3
   },
   "file_extension": ".py",
   "mimetype": "text/x-python",
   "name": "python",
   "nbconvert_exporter": "python",
   "pygments_lexer": "ipython3",
   "version": "3.7.4"
  }
 },
 "nbformat": 4,
 "nbformat_minor": 4
}
