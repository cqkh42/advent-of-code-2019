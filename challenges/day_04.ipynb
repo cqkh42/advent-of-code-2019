{
 "cells": [
  {
   "cell_type": "markdown",
   "metadata": {},
   "source": [
    "# Day 4: Secure Container"
   ]
  },
  {
   "cell_type": "markdown",
   "metadata": {},
   "source": [
    "# Part 1\n",
    "\n",
    "You arrive at the Venus fuel depot only to discover it's protected by a password. The Elves had written the password on a sticky note, but someone threw it out.\n",
    "\n",
    "However, they do remember a few key facts about the password:\n",
    "\n",
    "- It is a six-digit number.\n",
    "- The value is within the range given in your puzzle input.\n",
    "- Two adjacent digits are the same (like `22` in `1`**`22`**`345`).\n",
    "- Going from left to right, the digits **never decrease**; they only     ever increase or stay the same (like `111123` or `135679`).\n",
    "\n",
    "Other than the range rule, the following are true:\n",
    "\n",
    "- `111111` meets these criteria (double `11`, never decreases).\n",
    "- `2234`**`50`** does not meet these criteria (decreasing pair of          digits `50`).\n",
    "- `123789` does not meet these criteria (no double).\n",
    "\n",
    "**How many different passwords** within the range given in your puzzle input meet these criteria?"
   ]
  },
  {
   "cell_type": "code",
   "execution_count": 1,
   "metadata": {},
   "outputs": [],
   "source": [
    "inputs = range(347312, 805916)"
   ]
  },
  {
   "cell_type": "code",
   "execution_count": 2,
   "metadata": {},
   "outputs": [],
   "source": [
    "def adjacent_equals(password):\n",
    "    twos = zip(str(password), str(password)[1:])\n",
    "    twos = [first == second for first, second in twos]\n",
    "    return any(twos)"
   ]
  },
  {
   "cell_type": "code",
   "execution_count": 3,
   "metadata": {},
   "outputs": [],
   "source": [
    "def not_decreasing(password):\n",
    "    twos = zip(str(password), str(password)[1:])\n",
    "    twos = [first <= second for first, second in twos]\n",
    "    return all(twos)"
   ]
  },
  {
   "cell_type": "code",
   "execution_count": 4,
   "metadata": {},
   "outputs": [],
   "source": [
    "def is_valid(password):\n",
    "    return adjacent_equals(password) and not_decreasing(password)"
   ]
  },
  {
   "cell_type": "code",
   "execution_count": 5,
   "metadata": {},
   "outputs": [],
   "source": [
    "def num_valid(passwords):\n",
    "    validity = [is_valid(password) for password in passwords]\n",
    "    num_valid = sum(validity)\n",
    "    return num_valid"
   ]
  },
  {
   "cell_type": "markdown",
   "metadata": {},
   "source": [
    "### Test Cases"
   ]
  },
  {
   "cell_type": "code",
   "execution_count": 6,
   "metadata": {},
   "outputs": [],
   "source": [
    "test_cases = [\n",
    "    (111111, True),\n",
    "    (223450, False),\n",
    "    (123789, False)\n",
    "]\n",
    "\n",
    "for input_, output in test_cases:\n",
    "    assert is_valid(input_) is output"
   ]
  },
  {
   "cell_type": "code",
   "execution_count": 7,
   "metadata": {},
   "outputs": [
    {
     "data": {
      "text/plain": [
       "594"
      ]
     },
     "execution_count": 7,
     "metadata": {},
     "output_type": "execute_result"
    }
   ],
   "source": [
    "num_valid(inputs)"
   ]
  },
  {
   "cell_type": "markdown",
   "metadata": {},
   "source": [
    "Answer to Part 1: **594**"
   ]
  },
  {
   "cell_type": "markdown",
   "metadata": {},
   "source": [
    "## Part 2\n",
    "\n",
    "An Elf just remembered one more important detail: the two adjacent matching digits **are not part of a larger group of matching digits**.\n",
    "\n",
    "Given this additional criterion, but still ignoring the range rule, the following are now true:\n",
    "\n",
    "- `112233` meets these criteria because the digits never decrease and     all repeated digits are exactly two digits long.\n",
    "- `123`**`444`** no longer meets the criteria (the repeated `44` is       part of a larger group of `444`).\n",
    "- `111122` meets the criteria (even though `1` is repeated more than     twice, it still contains a double `22`).\n",
    "\n",
    "**How many different passwords** within the range given in your puzzle input meet all of the criteria?"
   ]
  },
  {
   "cell_type": "code",
   "execution_count": 8,
   "metadata": {},
   "outputs": [],
   "source": [
    "import itertools"
   ]
  },
  {
   "cell_type": "code",
   "execution_count": 9,
   "metadata": {},
   "outputs": [],
   "source": [
    "def has_only_two(password):\n",
    "    grouped = itertools.groupby(str(password))\n",
    "    counts = (len(list(group)) for _, group in grouped)\n",
    "    two_counts = (count == 2 for count in counts)\n",
    "    return any(two_counts)"
   ]
  },
  {
   "cell_type": "code",
   "execution_count": 10,
   "metadata": {},
   "outputs": [],
   "source": [
    "def is_valid(pw):\n",
    "    return adjacent_equals(pw) and not_decreasing(pw) and has_only_two(pw)"
   ]
  },
  {
   "cell_type": "code",
   "execution_count": 11,
   "metadata": {},
   "outputs": [],
   "source": [
    "def num_valid(passwords):\n",
    "    validity = [is_valid(password) for password in passwords]\n",
    "    num_valid = sum(validity)\n",
    "    return num_valid"
   ]
  },
  {
   "cell_type": "markdown",
   "metadata": {},
   "source": [
    "### Test Cases"
   ]
  },
  {
   "cell_type": "code",
   "execution_count": 12,
   "metadata": {},
   "outputs": [],
   "source": [
    "test_cases = [\n",
    "    (112233, True),\n",
    "    (123444, False),\n",
    "    (111122, True)\n",
    "]\n",
    "\n",
    "for input_, output in test_cases:\n",
    "    assert is_valid(input_) is output"
   ]
  },
  {
   "cell_type": "code",
   "execution_count": 13,
   "metadata": {},
   "outputs": [
    {
     "data": {
      "text/plain": [
       "364"
      ]
     },
     "execution_count": 13,
     "metadata": {},
     "output_type": "execute_result"
    }
   ],
   "source": [
    "num_valid(inputs)"
   ]
  },
  {
   "cell_type": "markdown",
   "metadata": {},
   "source": [
    "Answer to Part 2: **364**"
   ]
  }
 ],
 "metadata": {
  "kernelspec": {
   "display_name": "Python 3",
   "language": "python",
   "name": "python3"
  },
  "language_info": {
   "codemirror_mode": {
    "name": "ipython",
    "version": 3
   },
   "file_extension": ".py",
   "mimetype": "text/x-python",
   "name": "python",
   "nbconvert_exporter": "python",
   "pygments_lexer": "ipython3",
   "version": "3.7.4"
  }
 },
 "nbformat": 4,
 "nbformat_minor": 4
}
