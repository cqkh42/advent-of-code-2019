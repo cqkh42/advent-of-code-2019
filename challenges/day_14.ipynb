{
 "cells": [
  {
   "cell_type": "markdown",
   "metadata": {},
   "source": [
    "# Day 14: Space Stoichiometry"
   ]
  },
  {
   "cell_type": "markdown",
   "metadata": {},
   "source": [
    "## Part 1\n",
    "\n",
    "As you approach the rings of Saturn, your ship's **low fuel** indicator turns on. There isn't any fuel here, but the rings have plenty of raw material. Perhaps your ship's Inter-Stellar Refinery Union brand **nanofactory** can turn these raw materials into fuel.\n",
    "\n",
    "You ask the nanofactory to produce a list of the **reactions** it can perform that are relevant to this process (your puzzle input). Every reaction turns some quantities of specific **input chemicals** into some quantity of an **output chemical**. Almost every **chemical** is produced by exactly one reaction; the only exception, `ORE`, is the raw material input to the entire process and is not produced by a reaction.\n",
    "\n",
    "You just need to know how much **`ORE`** you'll need to collect before you can produce one unit of **`FUEL`**.\n",
    "\n",
    "Each reaction gives specific quantities for its inputs and output; reactions cannot be partially run, so only whole integer multiples of these quantities can be used. (It's okay to have leftover chemicals when you're done, though.) For example, the reaction `1 A, 2 B, 3 C => 2 D` means that exactly `2` units of chemical `D` can be produced by consuming exactly `1` `A`, `2` `B` and `3` `C`. You can run the full reaction as many times as necessary; for example, you could produce `10` `D` by consuming `5` `A`, `10` `B`, and `15` `C`.\n",
    "\n",
    "Suppose your nanofactory produces the following list of reactions:\n",
    "\n",
    "```\n",
    "10 ORE => 10 A\n",
    "1 ORE => 1 B\n",
    "7 A, 1 B => 1 C\n",
    "7 A, 1 C => 1 D\n",
    "7 A, 1 D => 1 E\n",
    "7 A, 1 E => 1 FUEL\n",
    "```\n",
    "\n",
    "The first two reactions use only `ORE` as inputs; they indicate that you can produce as much of chemical `A` as you want (in increments of 10 units, each 10 costing 10 `ORE`) and as much of chemical `B` as you want (each costing 1 `ORE`). To produce 1 `FUEL`, a total of **31** `ORE` is required: 1 `ORE` to produce 1 `B`, then 30 more `ORE` to produce the 7 + 7 + 7 + 7 = 28 `A` (with 2 extra `A` wasted) required in the reactions to convert the `B` into `C`, `C` into `D`, `D` into `E`, and finally `E` into `FUEL`. (30 `A` is produced because its reaction requires that it is created in increments of 10.)\n",
    "\n",
    "Or, suppose you have the following list of reactions:\n",
    "\n",
    "```\n",
    "9 ORE => 2 A\n",
    "8 ORE => 3 B\n",
    "7 ORE => 5 C\n",
    "3 A, 4 B => 1 AB\n",
    "5 B, 7 C => 1 BC\n",
    "4 C, 1 A => 1 CA\n",
    "2 AB, 3 BC, 4 CA => 1 FUEL\n",
    "```\n",
    "\n",
    "The above list of reactions requires **165** `ORE` to produce 1 `FUEL`:\n",
    "\n",
    "- Consume 45 `ORE` to produce 10 `A`.\n",
    "- Consume 64 `ORE` to produce 24 `B`.\n",
    "- Consume 56 `ORE` to produce 40 `C`.\n",
    "- Consume 6 `A`, 8 `B` to produce 2 `AB`.\n",
    "- Consume 15 `B`, 21 `C` to produce 3 `BC`.\n",
    "- Consume 16 `C`, 4 `A` to produce 4 `CA`.\n",
    "- Consume 2 `AB`, 3 `BC`, 4 `CA` to produce 1 `FUEL`.\n",
    "\n",
    "Here are some larger examples:\n",
    "\n",
    "- *13312* `ORE` for 1 `FUEL`:\n",
    "\n",
    "```\n",
    "157 ORE => 5 NZVS\n",
    "165 ORE => 6 DCFZ\n",
    "44 XJWVT, 5 KHKGT, 1 QDVJ, 29 NZVS, 9 GPVTF, 48 HKGWZ => 1 FUEL\n",
    "12 HKGWZ, 1 GPVTF, 8 PSHF => 9 QDVJ\n",
    "179 ORE => 7 PSHF\n",
    "177 ORE => 5 HKGWZ\n",
    "7 DCFZ, 7 PSHF => 2 XJWVT\n",
    "165 ORE => 2 GPVTF\n",
    "3 DCFZ, 7 NZVS, 5 HKGWZ, 10 PSHF => 8 KHKGT\n",
    "```\n",
    "\n",
    "- *180697* `ORE` for 1 `FUEL`:\n",
    "\n",
    "```\n",
    "2 VPVL, 7 FWMGM, 2 CXFTF, 11 MNCFX => 1 STKFG\n",
    "17 NVRVD, 3 JNWZP => 8 VPVL\n",
    "53 STKFG, 6 MNCFX, 46 VJHF, 81 HVMC, 68 CXFTF, 25 GNMV => 1 FUEL\n",
    "22 VJHF, 37 MNCFX => 5 FWMGM\n",
    "139 ORE => 4 NVRVD\n",
    "144 ORE => 7 JNWZP\n",
    "5 MNCFX, 7 RFSQX, 2 FWMGM, 2 VPVL, 19 CXFTF => 3 HVMC\n",
    "5 VJHF, 7 MNCFX, 9 VPVL, 37 CXFTF => 6 GNMV\n",
    "145 ORE => 6 MNCFX\n",
    "1 NVRVD => 8 CXFTF\n",
    "1 VJHF, 6 MNCFX => 4 RFSQX\n",
    "176 ORE => 6 VJHF\n",
    "```\n",
    "\n",
    "- *2210736* `ORE` for 1 `FUEL`:\n",
    "\n",
    "```\n",
    "171 ORE => 8 CNZTR\n",
    "7 ZLQW, 3 BMBT, 9 XCVML, 26 XMNCP, 1 WPTQ, 2 MZWV, 1 RJRHP => 4 PLWSL\n",
    "114 ORE => 4 BHXH\n",
    "14 VRPVC => 6 BMBT\n",
    "6 BHXH, 18 KTJDG, 12 WPTQ, 7 PLWSL, 31 FHTLT, 37 ZDVW => 1 FUEL\n",
    "6 WPTQ, 2 BMBT, 8 ZLQW, 18 KTJDG, 1 XMNCP, 6 MZWV, 1 RJRHP => 6 FHTLT\n",
    "15 XDBXC, 2 LTCX, 1 VRPVC => 6 ZLQW\n",
    "13 WPTQ, 10 LTCX, 3 RJRHP, 14 XMNCP, 2 MZWV, 1 ZLQW => 1 ZDVW\n",
    "5 BMBT => 4 WPTQ\n",
    "189 ORE => 9 KTJDG\n",
    "1 MZWV, 17 XDBXC, 3 XCVML => 2 XMNCP\n",
    "12 VRPVC, 27 CNZTR => 2 XDBXC\n",
    "15 KTJDG, 12 BHXH => 5 XCVML\n",
    "3 BHXH, 2 VRPVC => 7 MZWV\n",
    "121 ORE => 7 VRPVC\n",
    "7 XCVML => 6 RJRHP\n",
    "5 BHXH, 4 VRPVC => 5 LTCX\n",
    "```\n",
    "\n",
    "Given the list of reactions in your puzzle input, **what is the minimum amount of `ORE` required to produce exactly 1 `FUEL`**?"
   ]
  },
  {
   "cell_type": "code",
   "execution_count": 1,
   "metadata": {},
   "outputs": [],
   "source": [
    "from pathlib import Path\n",
    "import re\n",
    "\n",
    "input_path = Path(\"..\") / \"inputs\" / \"day_14.txt\"\n",
    "inputs = input_path.read_text()\n",
    "inputs = inputs.split(\"\\n\")"
   ]
  },
  {
   "cell_type": "code",
   "execution_count": 2,
   "metadata": {},
   "outputs": [],
   "source": [
    "def row_to_reaction(row):\n",
    "    row = row.replace(',', \"\")\n",
    "    parts = row.split()\n",
    "    ingredients = list(zip(parts[:-3:2], parts[1:-2:2]))\n",
    "    ingredients = [(int(a), b) for a, b in ingredients]\n",
    "    return (parts[-1], {\"makes\": int(parts[-2]), \"ingredients\": ingredients})\n",
    "\n",
    "\n",
    "reactions = dict(row_to_reaction(row) for row in inputs)"
   ]
  },
  {
   "cell_type": "code",
   "execution_count": 3,
   "metadata": {},
   "outputs": [],
   "source": [
    "from collections import defaultdict\n",
    "\n",
    "def ore_needed(reactions, quantity=1):\n",
    "    needed = [(i[0]*quantity, i[1]) for i in reactions[\"FUEL\"][\"ingredients\"]]\n",
    "    left_overs = defaultdict(int)\n",
    "    while True:\n",
    "        for needed_amount, needed_element in needed:\n",
    "            if needed_element == \"ORE\":\n",
    "                continue\n",
    "            \n",
    "            if left_overs[needed_element]:\n",
    "                can_use_from_leftovers = min(left_overs[needed_element], needed_amount)\n",
    "                left_overs[needed_element] -= can_use_from_leftovers\n",
    "                to_add = [(needed_amount - can_use_from_leftovers, needed_element)]\n",
    "            else:\n",
    "                thats_bits = reactions[needed_element]\n",
    "                makes = thats_bits[\"makes\"]\n",
    "                num_reactions_needed = (needed_amount // makes) + bool(needed_amount % makes)\n",
    "                left_overs[needed_element] += (num_reactions_needed * makes) - needed_amount\n",
    "                to_add = [(i[0]*num_reactions_needed, i[1]) for i in thats_bits[\"ingredients\"]]\n",
    "            to_add = [i for i in to_add if i[0]]\n",
    "            needed.extend(to_add)\n",
    "            needed.remove((needed_amount, needed_element))\n",
    "            \n",
    "            uniques = {i[1] for i in needed}\n",
    "            if uniques == {\"ORE\"}:\n",
    "                totalled = sum([i[0] for i in needed])\n",
    "                return totalled"
   ]
  },
  {
   "cell_type": "markdown",
   "metadata": {},
   "source": [
    "# Test Cases"
   ]
  },
  {
   "cell_type": "code",
   "execution_count": 4,
   "metadata": {},
   "outputs": [],
   "source": [
    "test_cases = [\n",
    "    (\n",
    "        [\"10 ORE => 10 A\", \"1 ORE => 1 B\", \"7 A, 1 B => 1 C\", \"7 A, 1 C => 1 D\", \"7 A, 1 D => 1 E\", \"7 A, 1 E => 1 FUEL\"],\n",
    "        31\n",
    "    ),\n",
    "    (\n",
    "        [\n",
    "            \"9 ORE => 2 A\", \"8 ORE => 3 B\", \"7 ORE => 5 C\", \"3 A, 4 B => 1 AB\", \"5 B, 7 C => 1 BC\", \"4 C, 1 A => 1 CA\",\n",
    "            \"2 AB, 3 BC, 4 CA => 1 FUEL\"\n",
    "        ],\n",
    "        165\n",
    "    ),\n",
    "    (\n",
    "        [\n",
    "            \"157 ORE => 5 NZVS\", \"165 ORE => 6 DCFZ\", \"44 XJWVT, 5 KHKGT, 1 QDVJ, 29 NZVS, 9 GPVTF, 48 HKGWZ => 1 FUEL\",\n",
    "            \"12 HKGWZ, 1 GPVTF, 8 PSHF => 9 QDVJ\", \"179 ORE => 7 PSHF\", \"177 ORE => 5 HKGWZ\", \"7 DCFZ, 7 PSHF => 2 XJWVT\",\n",
    "            \"165 ORE => 2 GPVTF\", \"3 DCFZ, 7 NZVS, 5 HKGWZ, 10 PSHF => 8 KHKGT\"\n",
    "        ],\n",
    "        13312\n",
    "      ),\n",
    "    (\n",
    "        [\n",
    "            \"2 VPVL, 7 FWMGM, 2 CXFTF, 11 MNCFX => 1 STKFG\", \"17 NVRVD, 3 JNWZP => 8 VPVL\", \n",
    "            \"53 STKFG, 6 MNCFX, 46 VJHF, 81 HVMC, 68 CXFTF, 25 GNMV => 1 FUEL\", \"22 VJHF, 37 MNCFX => 5 FWMGM\",\n",
    "            \"139 ORE => 4 NVRVD\", \"144 ORE => 7 JNWZP\", \"5 MNCFX, 7 RFSQX, 2 FWMGM, 2 VPVL, 19 CXFTF => 3 HVMC\",\n",
    "            \"5 VJHF, 7 MNCFX, 9 VPVL, 37 CXFTF => 6 GNMV\", \"145 ORE => 6 MNCFX\", \"1 NVRVD => 8 CXFTF\", \n",
    "            \"1 VJHF, 6 MNCFX => 4 RFSQX\", \"176 ORE => 6 VJHF\"\n",
    "        ],\n",
    "        180697\n",
    "    ),\n",
    "    (\n",
    "        [\n",
    "            \"171 ORE => 8 CNZTR\", \"7 ZLQW, 3 BMBT, 9 XCVML, 26 XMNCP, 1 WPTQ, 2 MZWV, 1 RJRHP => 4 PLWSL\",\n",
    "            \"114 ORE => 4 BHXH\", \"14 VRPVC => 6 BMBT\", \"6 BHXH, 18 KTJDG, 12 WPTQ, 7 PLWSL, 31 FHTLT, 37 ZDVW => 1 FUEL\",\n",
    "            \"6 WPTQ, 2 BMBT, 8 ZLQW, 18 KTJDG, 1 XMNCP, 6 MZWV, 1 RJRHP => 6 FHTLT\", \"15 XDBXC, 2 LTCX, 1 VRPVC => 6 ZLQW\",\n",
    "            \"13 WPTQ, 10 LTCX, 3 RJRHP, 14 XMNCP, 2 MZWV, 1 ZLQW => 1 ZDVW\", \"5 BMBT => 4 WPTQ\", \"189 ORE => 9 KTJDG\",\n",
    "            \"1 MZWV, 17 XDBXC, 3 XCVML => 2 XMNCP\", \"12 VRPVC, 27 CNZTR => 2 XDBXC\", \"15 KTJDG, 12 BHXH => 5 XCVML\",\n",
    "            \"3 BHXH, 2 VRPVC => 7 MZWV\", \"121 ORE => 7 VRPVC\", \"7 XCVML => 6 RJRHP\", \"5 BHXH, 4 VRPVC => 5 LTCX\"\n",
    "        ],\n",
    "        2210736\n",
    "    )\n",
    "]\n",
    "\n",
    "for rows, output in test_cases:\n",
    "    reactions_ = dict(row_to_reaction(row) for row in rows)\n",
    "    assert ore_needed(reactions_) == output"
   ]
  },
  {
   "cell_type": "code",
   "execution_count": 5,
   "metadata": {},
   "outputs": [
    {
     "data": {
      "text/plain": [
       "346961"
      ]
     },
     "execution_count": 5,
     "metadata": {},
     "output_type": "execute_result"
    }
   ],
   "source": [
    "ore_needed(reactions)"
   ]
  },
  {
   "cell_type": "markdown",
   "metadata": {},
   "source": [
    "Answer to Part 1: **346961**"
   ]
  },
  {
   "cell_type": "markdown",
   "metadata": {},
   "source": [
    "## Part 2\n",
    "\n",
    "After collecting `ORE` for a while, you check your cargo hold: **1 trillion (1000000000000)** units of `ORE`.\n",
    "\n",
    "**With that much ore**, given the examples above:\n",
    "- The 13312 `ORE`-per-`FUEL` example could produce **82892753** `FUEL`.\n",
    "- The 180697 `ORE`-per-`FUEL` example could produce **5586022** `FUEL`.\n",
    "- The 2210736 `ORE`-per-`FUEL` example could produce **460664** `FUEL`.\n",
    "\n",
    "Given 1 trillion `ORE`, **what is the maximum amount of `FUEL` you can produce?**"
   ]
  },
  {
   "cell_type": "code",
   "execution_count": 6,
   "metadata": {},
   "outputs": [],
   "source": [
    "test_cases = [\n",
    "    (\n",
    "        [\n",
    "            \"157 ORE => 5 NZVS\", \"165 ORE => 6 DCFZ\", \"44 XJWVT, 5 KHKGT, 1 QDVJ, 29 NZVS, 9 GPVTF, 48 HKGWZ => 1 FUEL\",\n",
    "            \"12 HKGWZ, 1 GPVTF, 8 PSHF => 9 QDVJ\", \"179 ORE => 7 PSHF\", \"177 ORE => 5 HKGWZ\", \"7 DCFZ, 7 PSHF => 2 XJWVT\",\n",
    "            \"165 ORE => 2 GPVTF\", \"3 DCFZ, 7 NZVS, 5 HKGWZ, 10 PSHF => 8 KHKGT\"\n",
    "        ],\n",
    "        82892753\n",
    "    ),\n",
    "    (\n",
    "        [\n",
    "            \"2 VPVL, 7 FWMGM, 2 CXFTF, 11 MNCFX => 1 STKFG\", \"17 NVRVD, 3 JNWZP => 8 VPVL\", \n",
    "            \"53 STKFG, 6 MNCFX, 46 VJHF, 81 HVMC, 68 CXFTF, 25 GNMV => 1 FUEL\", \"22 VJHF, 37 MNCFX => 5 FWMGM\",\n",
    "            \"139 ORE => 4 NVRVD\", \"144 ORE => 7 JNWZP\", \"5 MNCFX, 7 RFSQX, 2 FWMGM, 2 VPVL, 19 CXFTF => 3 HVMC\",\n",
    "            \"5 VJHF, 7 MNCFX, 9 VPVL, 37 CXFTF => 6 GNMV\", \"145 ORE => 6 MNCFX\", \"1 NVRVD => 8 CXFTF\", \n",
    "            \"1 VJHF, 6 MNCFX => 4 RFSQX\", \"176 ORE => 6 VJHF\"\n",
    "        ],\n",
    "        5586022\n",
    "    ),\n",
    "    (\n",
    "        [\n",
    "            \"171 ORE => 8 CNZTR\", \"7 ZLQW, 3 BMBT, 9 XCVML, 26 XMNCP, 1 WPTQ, 2 MZWV, 1 RJRHP => 4 PLWSL\",\n",
    "            \"114 ORE => 4 BHXH\", \"14 VRPVC => 6 BMBT\", \"6 BHXH, 18 KTJDG, 12 WPTQ, 7 PLWSL, 31 FHTLT, 37 ZDVW => 1 FUEL\",\n",
    "            \"6 WPTQ, 2 BMBT, 8 ZLQW, 18 KTJDG, 1 XMNCP, 6 MZWV, 1 RJRHP => 6 FHTLT\", \"15 XDBXC, 2 LTCX, 1 VRPVC => 6 ZLQW\",\n",
    "            \"13 WPTQ, 10 LTCX, 3 RJRHP, 14 XMNCP, 2 MZWV, 1 ZLQW => 1 ZDVW\", \"5 BMBT => 4 WPTQ\", \"189 ORE => 9 KTJDG\",\n",
    "            \"1 MZWV, 17 XDBXC, 3 XCVML => 2 XMNCP\", \"12 VRPVC, 27 CNZTR => 2 XDBXC\", \"15 KTJDG, 12 BHXH => 5 XCVML\",\n",
    "            \"3 BHXH, 2 VRPVC => 7 MZWV\", \"121 ORE => 7 VRPVC\", \"7 XCVML => 6 RJRHP\", \"5 BHXH, 4 VRPVC => 5 LTCX\"\n",
    "        ],\n",
    "        460664\n",
    "    )\n",
    "]\n",
    "        "
   ]
  },
  {
   "cell_type": "code",
   "execution_count": 7,
   "metadata": {},
   "outputs": [],
   "source": [
    "def fuel_with_ore(reactions, ore):\n",
    "    lower = 0\n",
    "    n = 0\n",
    "    \n",
    "    result = 0\n",
    "    while result <= ore:\n",
    "        result = ore_needed(reactions, 10**n)\n",
    "        upper = 10**n\n",
    "        lower = 10**(n-1)\n",
    "        if result >= ore:\n",
    "            break\n",
    "        n += 1\n",
    "    while True:\n",
    "        half = int((upper + lower) / 2)\n",
    "        result = ore_needed(reactions, half)\n",
    "        if result > ore:\n",
    "            upper = half\n",
    "        elif result < ore:\n",
    "            lower = half\n",
    "            if ore_needed(reactions, half+1) > ore:\n",
    "                return half\n",
    "    "
   ]
  },
  {
   "cell_type": "code",
   "execution_count": 8,
   "metadata": {},
   "outputs": [],
   "source": [
    "for rows, output in test_cases:\n",
    "    reactions_ = dict(row_to_reaction(row) for row in rows)\n",
    "    assert fuel_with_ore(reactions_, 1e12) == output"
   ]
  },
  {
   "cell_type": "code",
   "execution_count": 9,
   "metadata": {},
   "outputs": [
    {
     "data": {
      "text/plain": [
       "4065790"
      ]
     },
     "execution_count": 9,
     "metadata": {},
     "output_type": "execute_result"
    }
   ],
   "source": [
    "fuel_with_ore(reactions, 1e12)"
   ]
  }
 ],
 "metadata": {
  "kernelspec": {
   "display_name": "Python 3",
   "language": "python",
   "name": "python3"
  },
  "language_info": {
   "codemirror_mode": {
    "name": "ipython",
    "version": 3
   },
   "file_extension": ".py",
   "mimetype": "text/x-python",
   "name": "python",
   "nbconvert_exporter": "python",
   "pygments_lexer": "ipython3",
   "version": "3.7.4"
  }
 },
 "nbformat": 4,
 "nbformat_minor": 4
}
