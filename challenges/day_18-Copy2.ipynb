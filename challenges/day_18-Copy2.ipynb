{
 "cells": [
  {
   "cell_type": "markdown",
   "metadata": {},
   "source": [
    "# Day 18: Many-Worlds Interpretation\n",
    "\n",
    "## Part 1\n",
    "\n",
    "As you approach Neptune, a planetary security system detects you and activates \n",
    "a giant tractor beam on Triton! You have no choice but to land.\n",
    "\n",
    "A scan of the local area reveals only one interesting feature: a massive \n",
    "underground vault. You generate a map of the tunnels (your puzzle input). The \n",
    "tunnels are too narrow to move diagonally.\n",
    "\n",
    "Only one **entrance** (marked `@`) is present among the **open passages** \n",
    "(marked `.`) and stone walls (#), but you also detect an assortment of \n",
    "**keys** (shown as lowercase letters) and **doors** (shown as uppercase \n",
    "letters). Keys of a given letter open the door of the same letter: `a` opens \n",
    "`A`, `b` opens `B`, and so on. You aren't sure which key you need to disable \n",
    "the tractor beam, so you'll need to **collect all of them**.\n",
    "\n",
    "For example, suppose you have the following map:\n",
    "\n",
    "```\n",
    "#########\n",
    "#b.A.@.a#\n",
    "#########\n",
    "```\n",
    "\n",
    "Starting from the entrance (`@`), you can only access a large door (`A`) and \n",
    "a key (`a`). Moving toward the door doesn't help you, but you can move `2` steps \n",
    "to collect the key, unlocking `A` in the process:\n",
    "\n",
    "```\n",
    "#########\n",
    "#b.....@#\n",
    "#########\n",
    "```\n",
    "\n",
    "Then, you can move `6` steps to collect the only other key, `b`:\n",
    "\n",
    "```\n",
    "#########\n",
    "#@......#\n",
    "#########\n",
    "```\n",
    "\n",
    "So, collecting every key took a total of **`8`** steps.\n",
    "\n",
    "Here is a larger example:\n",
    "\n",
    "```\n",
    "########################\n",
    "#f.D.E.e.C.b.A.@.a.B.c.#\n",
    "######################.#\n",
    "#d.....................#\n",
    "########################\n",
    "```\n",
    "\n",
    "The only reasonable move is to take key `a` and unlock door `A`:\n",
    "\n",
    "```\n",
    "########################\n",
    "#f.D.E.e.C.b.....@.B.c.#\n",
    "######################.#\n",
    "#d.....................#\n",
    "########################\n",
    "```\n",
    "\n",
    "Then, do the same with key `b`:\n",
    "\n",
    "```\n",
    "########################\n",
    "#f.D.E.e.C.@.........c.#\n",
    "######################.#\n",
    "#d.....................#\n",
    "########################\n",
    "```\n",
    "\n",
    "...and the same with key `c`:\n",
    "\n",
    "```\n",
    "########################\n",
    "#f.D.E.e.............@.#\n",
    "######################.#\n",
    "#d.....................#\n",
    "########################\n",
    "```\n",
    "\n",
    "Now, you have a choice between keys `d` and `e`. While key `e` is closer, \n",
    "collecting it now would be slower in the long run than collecting key `d` \n",
    "first, so that's the best choice:\n",
    "\n",
    "```\n",
    "########################\n",
    "#f...E.e...............#\n",
    "######################.#\n",
    "#@.....................#\n",
    "########################\n",
    "```\n",
    "\n",
    "Finally, collect key `e` to unlock door `E`, then collect key `f`, taking a \n",
    "grand total of **`86`** steps.\n",
    "\n",
    "Here are a few more examples:\n",
    "\n",
    "- \n",
    "```\n",
    "########################\n",
    "#...............b.C.D.f#\n",
    "#.######################\n",
    "#.....@.a.B.c.d.A.e.F.g#\n",
    "########################\n",
    "```\n",
    "\n",
    "Shortest path is `132` steps: `b, a, c, d, f, e, g`\n",
    "\n",
    "- \n",
    "```\n",
    "#################\n",
    "#i.G..c...e..H.p#\n",
    "########.########\n",
    "#j.A..b...f..D.o#\n",
    "########@########\n",
    "#k.E..a...g..B.n#\n",
    "########.########\n",
    "#l.F..d...h..C.m#\n",
    "#################\n",
    "```\n",
    "\n",
    "Shortest paths are `136` steps;\n",
    "one is: `a, f, b, j, g, n, h, d, l, o, e, p, c, i, k, m`\n",
    "\n",
    "- \n",
    "```\n",
    "########################\n",
    "#@..............ac.GI.b#\n",
    "###d#e#f################\n",
    "###A#B#C################\n",
    "###g#h#i################\n",
    "########################\n",
    "```\n",
    "\n",
    "Shortest paths are `81` steps; one is: `a, c, f, i, d, g, b, e, h`\n",
    "\n",
    "**How many steps is the shortest path that collects all of the keys?**"
   ]
  },
  {
   "cell_type": "code",
   "execution_count": 2,
   "metadata": {},
   "outputs": [],
   "source": [
    "from pathlib import Path\n",
    "\n",
    "import numpy as np\n",
    "import itertools\n",
    "import networkx as nx\n",
    "import string\n",
    "from collections import defaultdict\n",
    "\n",
    "input_path = Path(\"..\") / \"inputs\" / \"day_18.txt\"\n",
    "inputs = input_path.read_text()\n",
    "inputs = inputs.split(\"\\n\")\n",
    "inputs = [list(line) for line in inputs]\n",
    "input_arr = np.array(inputs)"
   ]
  },
  {
   "cell_type": "markdown",
   "metadata": {},
   "source": [
    "### Test Cases"
   ]
  },
  {
   "cell_type": "code",
   "execution_count": 185,
   "metadata": {},
   "outputs": [],
   "source": [
    "test_cases = [\n",
    "    ([\"#########\",\"#b.A.@.a#\",\"#########\"], 8),\n",
    "    ([\n",
    "        \"########################\",\n",
    "        \"#f.D.E.e.C.b.A.@.a.B.c.#\",\n",
    "        \"######################.#\",\n",
    "        \"#d.....................#\",\n",
    "        \"########################\"\n",
    "    ], 86),\n",
    "    ([\n",
    "        \"########################\",\n",
    "        \"#...............b.C.D.f#\",\n",
    "        \"#.######################\",\n",
    "        \"#.....@.a.B.c.d.A.e.F.g#\",\n",
    "        \"########################\"\n",
    "    ], 132),\n",
    "    ([\n",
    "        \"#################\",\n",
    "        \"#i.G..c...e..H.p#\",\n",
    "        \"########.########\",\n",
    "        \"#j.A..b...f..D.o#\",\n",
    "        \"########@########\",\n",
    "        \"#k.E..a...g..B.n#\",\n",
    "        \"########.########\",\n",
    "        \"#l.F..d...h..C.m#\",\n",
    "        \"#################\"\n",
    "    ], 136),\n",
    "    ([\n",
    "        \"########################\",\n",
    "        \"#@..............ac.GI.b#\",\n",
    "        \"###d#e#f################\",\n",
    "        \"###A#B#C################\",\n",
    "        \"###g#h#i################\",\n",
    "        \"########################\"\n",
    "    ], 81)\n",
    "    \n",
    "]"
   ]
  },
  {
   "cell_type": "code",
   "execution_count": 233,
   "metadata": {},
   "outputs": [],
   "source": [
    "maze = [\"#########\",\"#b.A.@.a#\",\"#########\"]\n",
    "maze = [\n",
    "        \"#################\",\n",
    "        \"#i.G..c...e..H.p#\",\n",
    "        \"########.########\",\n",
    "        \"#j.A..b...f..D.o#\",\n",
    "        \"########@########\",\n",
    "        \"#k.E..a...g..B.n#\",\n",
    "        \"########.########\",\n",
    "        \"#l.F..d...h..C.m#\",\n",
    "        \"#################\"\n",
    "    ]"
   ]
  },
  {
   "cell_type": "code",
   "execution_count": 234,
   "metadata": {},
   "outputs": [],
   "source": [
    "maze_dict = {}\n",
    "for y, line in enumerate(maze):\n",
    "    for x, val in enumerate(line):\n",
    "        maze_dict[(x, y)] = val"
   ]
  },
  {
   "cell_type": "code",
   "execution_count": 235,
   "metadata": {},
   "outputs": [],
   "source": [
    "\n",
    "\n",
    "def find_shortest_path(start, end, maze_dict):\n",
    "#     print(f\"looking for shortest path between {maze_dict[start]} - {maze_dict[end]}\")\n",
    "    num_keys = sum(i in string.ascii_lowercase for i in maze_dict.values())\n",
    "\n",
    "    lowercase_dict = {a:b for b, a in enumerate(string.ascii_lowercase)}\n",
    "    uppercase_dict = {a:b for b, a in enumerate(string.ascii_uppercase)}\n",
    "    hashes = {k for k,v in maze_dict.items() if v == \"#\"}\n",
    "    key_grid = {k for k, v in maze_dict.items() if v in string.ascii_lowercase}\n",
    "    \n",
    "    keys = \"0\"*num_keys\n",
    "    if maze_dict[start] in string.ascii_lowercase:\n",
    "        \n",
    "        char_index = lowercase_dict[maze_dict[start]]\n",
    "        keys = keys[:char_index]+\"1\"+keys[char_index+1:]\n",
    "\n",
    "    queue = [[start, 0, keys]]\n",
    "    v = defaultdict(dict)\n",
    "\n",
    "    new_keybits = [\"0\"]    \n",
    "    while len(queue):\n",
    "        location, length, keybits = queue.pop(0)\n",
    "#         print(f\"at {location} with keys {keybits}\")\n",
    "        if location in v.get(keybits, {}):\n",
    "            continue\n",
    "        else:\n",
    "            v[keybits][location] = length + 1\n",
    "        next_bits = (\n",
    "            (location[0]+1, location[1]),\n",
    "            (location[0]-1, location[1]),\n",
    "            (location[0], location[1]+1),\n",
    "            (location[0], location[1]-1)\n",
    "        )\n",
    "        next_bits = (i for i in next_bits if i not in hashes)\n",
    "        next_bits = (i for i in next_bits if i not in v[keybits])\n",
    "\n",
    "        for those_coords in next_bits:\n",
    "            if those_coords == end:\n",
    "#                 print(f\"found shortest path of {length + 1}, {keybits}\")\n",
    "                return length + 1\n",
    "\n",
    "            t = [those_coords, length+1, keybits]\n",
    "            val_there = maze_dict[those_coords]\n",
    "\n",
    "            if val_there in string.ascii_uppercase:\n",
    "#                 print(f\"hit gate {val_there}\")\n",
    "                char_index = uppercase_dict[val_there]\n",
    "                if keybits[char_index] == \"0\":\n",
    "                    continue\n",
    "            elif those_coords in key_grid and those_coords != start:\n",
    "                \n",
    "                char_index = lowercase_dict[val_there]\n",
    "                existing = SHORTEST_PATHS.get((maze_dict[start], val_there), float(\"inf\"))\n",
    "                if  existing > length+1: \n",
    "#                     print(f\"existing shortest path for {last_key}, {those_coords}\")\n",
    "#                     print(f\"actually found shortest path between {maze_dict[start]} and {val_there}, {length+1}\")\n",
    "                    if (maze_dict[start], val_there) not in SHORTEST_PATHS:\n",
    "                        SHORTEST_PATHS[(maze_dict[start], val_there)] = length + 1\n",
    "                    if (val_there, maze_dict[end]) in SHORTEST_PATHS:\n",
    "#                         print(f\"and we know the distance between {val_there} and {maze_dict[end]}\")\n",
    "                        return length + 1 + SHORTEST_PATHS[(val_there, maze_dict[end])]\n",
    "                new_keybits = keybits[:char_index]+\"1\"+keybits[char_index+1:]\n",
    "#                 new_keybits = (\"0\"*char_index)+\"1\"+(\"0\"* (len(keybits) - char_index))\n",
    "#                 print(f\"now looking for shortest_path between {those_coords} and {end}, {maze_dict[those_coords]} - {maze_dict[end]}\")\n",
    "                t[2] = new_keybits\n",
    "#                 t[1] = 0\n",
    "\n",
    "            queue.append(t)\n",
    "#     print(f\"no path found between {maze_dict[start]} - {maze_dict[end]}\")\n",
    "    return None"
   ]
  },
  {
   "cell_type": "code",
   "execution_count": 236,
   "metadata": {},
   "outputs": [],
   "source": [
    "start = [k for k, v in maze_dict.items() if v == \"@\"][0]\n",
    "keys= [(k, v) for k, v in maze_dict.items() if v in string.ascii_lowercase]\n",
    "SHORTEST_PATHS = {}"
   ]
  },
  {
   "cell_type": "code",
   "execution_count": 237,
   "metadata": {},
   "outputs": [],
   "source": [
    "for (location_1, key_1), (location_2, key_2) in itertools.permutations(keys, 2):\n",
    "    if key_1 == key_2:\n",
    "        continue\n",
    "    if (key_1, key_2) in SHORTEST_PATHS:\n",
    "        continue\n",
    "    length = find_shortest_path(location_1, location_2, maze_dict)\n",
    "#     print(location_1, location_2)\n",
    "#     print(s, key_2, length)\n",
    "    if (key_1, key_2) not in SHORTEST_PATHS :\n",
    "#         print(f\"setting {key_1}, {key_2} to {length}\")\n",
    "        if length:\n",
    "            SHORTEST_PATHS[(key_1, key_2)] = length"
   ]
  },
  {
   "cell_type": "code",
   "execution_count": 238,
   "metadata": {},
   "outputs": [],
   "source": [
    "for location, key in keys:\n",
    "    length = find_shortest_path(start, location, maze_dict)\n",
    "    if length:\n",
    "        SHORTEST_PATHS[(\"@\", key)] = length"
   ]
  },
  {
   "cell_type": "code",
   "execution_count": 239,
   "metadata": {},
   "outputs": [],
   "source": [
    "rev_keys = {v:k for k, v in keys}\n",
    "rev_keys[\"@\"] = start"
   ]
  },
  {
   "cell_type": "code",
   "execution_count": 240,
   "metadata": {},
   "outputs": [
    {
     "data": {
      "text/plain": [
       "3"
      ]
     },
     "execution_count": 240,
     "metadata": {},
     "output_type": "execute_result"
    }
   ],
   "source": [
    "find_shortest_path(rev_keys[\"@\"], rev_keys[\"a\"], maze_dict)"
   ]
  },
  {
   "cell_type": "code",
   "execution_count": 241,
   "metadata": {},
   "outputs": [
    {
     "data": {
      "text/plain": [
       "6"
      ]
     },
     "execution_count": 241,
     "metadata": {},
     "output_type": "execute_result"
    }
   ],
   "source": [
    "find_shortest_path(rev_keys[\"a\"], rev_keys[\"f\"], maze_dict)"
   ]
  },
  {
   "cell_type": "code",
   "execution_count": 242,
   "metadata": {},
   "outputs": [
    {
     "data": {
      "text/plain": [
       "4"
      ]
     },
     "execution_count": 242,
     "metadata": {},
     "output_type": "execute_result"
    }
   ],
   "source": [
    "find_shortest_path(rev_keys[\"f\"], rev_keys[\"b\"], maze_dict)"
   ]
  },
  {
   "cell_type": "code",
   "execution_count": 243,
   "metadata": {},
   "outputs": [
    {
     "data": {
      "text/plain": [
       "17"
      ]
     },
     "execution_count": 243,
     "metadata": {},
     "output_type": "execute_result"
    }
   ],
   "source": [
    "find_shortest_path(rev_keys[\"b\"], rev_keys[\"j\"], maze_dict)"
   ]
  },
  {
   "cell_type": "code",
   "execution_count": 245,
   "metadata": {},
   "outputs": [
    {
     "data": {
      "text/plain": [
       "4"
      ]
     },
     "execution_count": 245,
     "metadata": {},
     "output_type": "execute_result"
    }
   ],
   "source": [
    "find_shortest_path(rev_keys[\"a\"], rev_keys[\"g\"], maze_dict)"
   ]
  },
  {
   "cell_type": "code",
   "execution_count": 209,
   "metadata": {},
   "outputs": [
    {
     "data": {
      "text/plain": [
       "6"
      ]
     },
     "execution_count": 209,
     "metadata": {},
     "output_type": "execute_result"
    }
   ],
   "source": [
    "SHORTEST_PATHS[(\"f\", \"e\")]"
   ]
  },
  {
   "cell_type": "code",
   "execution_count": 210,
   "metadata": {},
   "outputs": [
    {
     "data": {
      "text/plain": [
       "8"
      ]
     },
     "execution_count": 210,
     "metadata": {},
     "output_type": "execute_result"
    }
   ],
   "source": [
    "SHORTEST_PATHS[((\"e\", \"g\"))]"
   ]
  },
  {
   "cell_type": "code",
   "execution_count": 200,
   "metadata": {},
   "outputs": [],
   "source": [
    "G = nx.DiGraph()"
   ]
  },
  {
   "cell_type": "code",
   "execution_count": 201,
   "metadata": {},
   "outputs": [],
   "source": [
    "G.add_node(\"@\")\n",
    "for location, key in keys:\n",
    "    G.add_node(key)"
   ]
  },
  {
   "cell_type": "code",
   "execution_count": 202,
   "metadata": {},
   "outputs": [],
   "source": [
    "for (start, end), weight in SHORTEST_PATHS.items():\n",
    "    if weight:\n",
    "        G.add_edge(start, end, weight=weight)"
   ]
  },
  {
   "cell_type": "code",
   "execution_count": 192,
   "metadata": {},
   "outputs": [
    {
     "name": "stdout",
     "output_type": "stream",
     "text": [
      "({'@': 0, 'g': 3, 'a': 3, 'f': 3, 'b': 3, 'h': 5, 'd': 5, 'e': 9, 'c': 9, 'j': 14, 'n': 14, 'k': 18, 'i': 20, 'l': 20, 'o': 22, 'm': 24, 'p': 24}, {'@': ['@'], 'g': ['@', 'g'], 'i': ['@', 'a', 'i'], 'a': ['@', 'a'], 'c': ['@', 'b', 'c'], 'f': ['@', 'f'], 'e': ['@', 'e'], 'b': ['@', 'b'], 'p': ['@', 'a', 'p'], 'h': ['@', 'h'], 'j': ['@', 'a', 'j'], 'd': ['@', 'd'], 'o': ['@', 'a', 'o'], 'k': ['@', 'k'], 'n': ['@', 'b', 'n'], 'l': ['@', 'b', 'l'], 'm': ['@', 'm']})\n"
     ]
    }
   ],
   "source": [
    "\n",
    "path = nx.algorithms.shortest_paths.weighted.single_source_dijkstra(G, \"@\", weight=\"weight\")\n",
    "print(path)\n",
    "#     if len(path) == len(keys) + 1:\n",
    "#         print(nx.algorithms.shortest_paths.weighted.dijkstra_path_length(G, \"@\", key))"
   ]
  },
  {
   "cell_type": "code",
   "execution_count": 193,
   "metadata": {},
   "outputs": [
    {
     "data": {
      "text/plain": [
       "{('a', 'g'): 4,\n",
       " ('a', 'h'): 6,\n",
       " ('a', 'd'): 6,\n",
       " ('a', 'f'): 6,\n",
       " ('a', 'b'): 6,\n",
       " ('a', 'e'): 8,\n",
       " ('a', 'c'): 8,\n",
       " ('c', 'e'): 4,\n",
       " ('c', 'f'): 6,\n",
       " ('c', 'b'): 6,\n",
       " ('c', 'g'): 8,\n",
       " ('c', 'a'): 8,\n",
       " ('c', 'h'): 10,\n",
       " ('c', 'd'): 10,\n",
       " ('c', 'm'): 15,\n",
       " ('c', 'k'): 17,\n",
       " ('c', 'n'): 17,\n",
       " ('c', 'l'): 19,\n",
       " ('c', 'j'): 19,\n",
       " ('c', 'i'): 21,\n",
       " ('c', 'o'): 23,\n",
       " ('c', 'p'): 25,\n",
       " ('e', 'c'): 4,\n",
       " ('e', 'i'): 25,\n",
       " ('e', 'f'): 6,\n",
       " ('e', 'b'): 6,\n",
       " ('e', 'g'): 8,\n",
       " ('e', 'a'): 8,\n",
       " ('e', 'h'): 10,\n",
       " ('e', 'd'): 10,\n",
       " ('e', 'k'): 13,\n",
       " ('e', 'n'): 17,\n",
       " ('e', 'm'): 19,\n",
       " ('e', 'l'): 19,\n",
       " ('e', 'j'): 19,\n",
       " ('e', 'o'): 23,\n",
       " ('e', 'p'): 25,\n",
       " ('b', 'f'): 4,\n",
       " ('b', 'g'): 6,\n",
       " ('b', 'a'): 6,\n",
       " ('b', 'e'): 6,\n",
       " ('b', 'i'): 31,\n",
       " ('b', 'c'): 6,\n",
       " ('b', 'h'): 8,\n",
       " ('b', 'd'): 8,\n",
       " ('b', 'n'): 11,\n",
       " ('b', 'l'): 17,\n",
       " ('b', 'j'): 17,\n",
       " ('b', 'k'): 19,\n",
       " ('b', 'o'): 21,\n",
       " ('b', 'm'): 21,\n",
       " ('b', 'p'): 23,\n",
       " ('f', 'b'): 4,\n",
       " ('f', 'i'): 35,\n",
       " ('f', 'g'): 6,\n",
       " ('f', 'a'): 6,\n",
       " ('f', 'c'): 14,\n",
       " ('f', 'e'): 6,\n",
       " ('f', 'p'): 31,\n",
       " ('f', 'j'): 25,\n",
       " ('f', 'o'): 29,\n",
       " ('f', 'k'): 23,\n",
       " ('f', 'n'): 23,\n",
       " ('f', 'l'): 25,\n",
       " ('f', 'd'): 16,\n",
       " ('f', 'h'): 16,\n",
       " ('f', 'm'): 21,\n",
       " ('a', 'j'): 11,\n",
       " ('a', 'i'): 17,\n",
       " ('a', 'n'): 17,\n",
       " ('a', 'o'): 19,\n",
       " ('a', 'l'): 19,\n",
       " ('a', 'p'): 21,\n",
       " ('a', 'k'): 21,\n",
       " ('a', 'm'): 23,\n",
       " ('g', 'a'): 4,\n",
       " ('g', 'i'): 21,\n",
       " ('g', 'h'): 6,\n",
       " ('g', 'd'): 6,\n",
       " ('g', 'f'): 6,\n",
       " ('g', 'c'): 20,\n",
       " ('g', 'b'): 6,\n",
       " ('g', 'e'): 12,\n",
       " ('g', 'p'): 33,\n",
       " ('g', 'j'): 27,\n",
       " ('g', 'o'): 31,\n",
       " ('g', 'k'): 21,\n",
       " ('g', 'n'): 25,\n",
       " ('g', 'l'): 27,\n",
       " ('g', 'm'): 27,\n",
       " ('d', 'h'): 4,\n",
       " ('d', 'g'): 6,\n",
       " ('d', 'i'): 27,\n",
       " ('d', 'a'): 6,\n",
       " ('d', 'c'): 14,\n",
       " ('d', 'f'): 8,\n",
       " ('d', 'e'): 14,\n",
       " ('d', 'b'): 8,\n",
       " ('d', 'p'): 31,\n",
       " ('d', 'j'): 29,\n",
       " ('d', 'o'): 33,\n",
       " ('d', 'k'): 23,\n",
       " ('d', 'n'): 27,\n",
       " ('d', 'l'): 29,\n",
       " ('d', 'm'): 29,\n",
       " ('h', 'd'): 4,\n",
       " ('h', 'i'): 31,\n",
       " ('h', 'g'): 6,\n",
       " ('h', 'c'): 26,\n",
       " ('h', 'a'): 6,\n",
       " ('h', 'e'): 14,\n",
       " ('h', 'f'): 8,\n",
       " ('h', 'p'): 39,\n",
       " ('h', 'b'): 8,\n",
       " ('h', 'j'): 25,\n",
       " ('h', 'o'): 33,\n",
       " ('h', 'k'): 23,\n",
       " ('h', 'n'): 27,\n",
       " ('h', 'l'): 29,\n",
       " ('h', 'm'): 29,\n",
       " ('@', 'g'): 3,\n",
       " ('@', 'i'): 24,\n",
       " ('@', 'a'): 3,\n",
       " ('@', 'c'): 11,\n",
       " ('@', 'f'): 3,\n",
       " ('@', 'e'): 9,\n",
       " ('@', 'b'): 3,\n",
       " ('@', 'p'): 26,\n",
       " ('@', 'h'): 5,\n",
       " ('@', 'j'): 30,\n",
       " ('@', 'd'): 5,\n",
       " ('@', 'o'): 38,\n",
       " ('@', 'k'): 18,\n",
       " ('@', 'n'): 22,\n",
       " ('@', 'l'): 24,\n",
       " ('@', 'm'): 24}"
      ]
     },
     "execution_count": 193,
     "metadata": {},
     "output_type": "execute_result"
    }
   ],
   "source": [
    "SHORTEST_PATHS"
   ]
  },
  {
   "cell_type": "code",
   "execution_count": 180,
   "metadata": {},
   "outputs": [
    {
     "data": {
      "text/plain": [
       "{'@': 0,\n",
       " 'g': 3,\n",
       " 'a': 3,\n",
       " 'f': 3,\n",
       " 'b': 3,\n",
       " 'h': 5,\n",
       " 'd': 5,\n",
       " 'e': 9,\n",
       " 'c': 9,\n",
       " 'n': 14,\n",
       " 'k': 18,\n",
       " 'l': 20,\n",
       " 'j': 20,\n",
       " 'm': 24,\n",
       " 'o': 24,\n",
       " 'p': 26,\n",
       " 'i': 30}"
      ]
     },
     "execution_count": 180,
     "metadata": {},
     "output_type": "execute_result"
    }
   ],
   "source": [
    "path[0]"
   ]
  },
  {
   "cell_type": "code",
   "execution_count": 246,
   "metadata": {},
   "outputs": [],
   "source": [
    "maze = [\"#########\",\"#b.A.@.a#\",\"#########\"]"
   ]
  },
  {
   "cell_type": "code",
   "execution_count": 254,
   "metadata": {},
   "outputs": [],
   "source": [
    "maze_dict = {}\n",
    "for y, line in enumerate(maze):\n",
    "    for x, val in enumerate(line):\n",
    "        if val != \"#\":\n",
    "            maze_dict[(x, y)] = val"
   ]
  },
  {
   "cell_type": "code",
   "execution_count": 256,
   "metadata": {},
   "outputs": [],
   "source": [
    "G = nx.Graph()\n",
    "\n",
    "for coords, val in maze_dict.items():\n",
    "    if val == \"#\":\n",
    "        continue\n",
    "    G.add_node(coords)\n",
    "    next_bits = (\n",
    "            (coords[0]+1, coords[1]),\n",
    "            (coords[0]-1, coords[1]),\n",
    "            (coords[0], coords[1]+1),\n",
    "            (coords[0], coords[1]-1)\n",
    "        )\n",
    "    for n in next_bits:\n",
    "        if maze_dict.get(n):\n",
    "            G.add_node(n)\n",
    "            G.add_edge(coords, n)\n",
    "    "
   ]
  },
  {
   "cell_type": "code",
   "execution_count": 257,
   "metadata": {},
   "outputs": [
    {
     "data": {
      "text/plain": [
       "{(1, 1): 'b',\n",
       " (2, 1): '.',\n",
       " (3, 1): 'A',\n",
       " (4, 1): '.',\n",
       " (5, 1): '@',\n",
       " (6, 1): '.',\n",
       " (7, 1): 'a'}"
      ]
     },
     "execution_count": 257,
     "metadata": {},
     "output_type": "execute_result"
    }
   ],
   "source": [
    "maze_dict"
   ]
  },
  {
   "cell_type": "code",
   "execution_count": 261,
   "metadata": {},
   "outputs": [
    {
     "ename": "TypeError",
     "evalue": "nodes() missing 1 required positional argument: 'G'",
     "output_type": "error",
     "traceback": [
      "\u001b[0;31m---------------------------------------------------------------------------\u001b[0m",
      "\u001b[0;31mTypeError\u001b[0m                                 Traceback (most recent call last)",
      "\u001b[0;32m<ipython-input-261-9c6087c506bf>\u001b[0m in \u001b[0;36m<module>\u001b[0;34m\u001b[0m\n\u001b[0;32m----> 1\u001b[0;31m \u001b[0mnx\u001b[0m\u001b[0;34m.\u001b[0m\u001b[0mnodes\u001b[0m\u001b[0;34m(\u001b[0m\u001b[0;34m)\u001b[0m\u001b[0;34m\u001b[0m\u001b[0;34m\u001b[0m\u001b[0m\n\u001b[0m",
      "\u001b[0;31mTypeError\u001b[0m: nodes() missing 1 required positional argument: 'G'"
     ]
    }
   ],
   "source": [
    "nx.nodes()"
   ]
  },
  {
   "cell_type": "code",
   "execution_count": 267,
   "metadata": {},
   "outputs": [
    {
     "name": "stdout",
     "output_type": "stream",
     "text": [
      "['@', '.', 'A', '.', 'b']\n"
     ]
    }
   ],
   "source": [
    "for p in nx.all_simple_paths(G, (5,1), (1,1)):\n",
    "    i = [maze_dict[x] for x in p]\n",
    "    print(i)"
   ]
  },
  {
   "cell_type": "code",
   "execution_count": 268,
   "metadata": {},
   "outputs": [],
   "source": [
    "def part1(lines):\n",
    "    '''\n",
    "    >>> part1(\"######### #b.A.@.a# #########\".split())\n",
    "    8\n",
    "    >>> part1(\"######################## #f.D.E.e.C.b.A.@.a.B.c.# ######################.# #d.....................# ########################\".split())\n",
    "    86\n",
    "    >>> part1(\"######################## #...............b.C.D.f# #.###################### #.....@.a.B.c.d.A.e.F.g# ########################\".split())\n",
    "    132\n",
    "    >>> part1(\"################# #i.G..c...e..H.p# ########.######## #j.A..b...f..D.o# ########@######## #k.E..a...g..B.n# ########.######## #l.F..d...h..C.m# #################\".split())\n",
    "    136\n",
    "    >>> part1(\"######################## #@..............ac.GI.b# ###d#e#f################ ###A#B#C################ ###g#h#i################ ########################\".split())\n",
    "    81\n",
    "    '''\n",
    "    all_keys = {(x, y): c\n",
    "                for y, line in enumerate(lines) for x, c in enumerate(line)\n",
    "                if c.islower()}\n",
    "    starts = dict(all_keys)\n",
    "    bots = []\n",
    "    for bot, pos in enumerate((x, y) for y, line in enumerate(lines)\n",
    "                              for x, c in enumerate(line) if c == '@'):\n",
    "        starts[pos] = str(bot)\n",
    "        bots.append(str(bot))\n",
    "    all_paths = {}\n",
    "    for pos, item in starts.items():\n",
    "        queue, seen, item_paths = [(0, pos, frozenset())], {pos}, {}\n",
    "        while queue:\n",
    "            d, pos, doors = heapq.heappop(queue)\n",
    "            x, y = pos\n",
    "            c = lines[y][x]\n",
    "            if c != item and c.islower():\n",
    "                item_paths[c] = (d, doors)\n",
    "                continue\n",
    "            elif c.isupper():\n",
    "                doors = doors | {c.lower()}\n",
    "            for x, y in ((x - 1, y), (x, y - 1), (x, y + 1), (x + 1, y)):\n",
    "                if (x, y) in seen or not (0 <= y < len(lines)):\n",
    "                    continue\n",
    "                line = lines[y]\n",
    "                if not (0 <= x < len(line)):\n",
    "                    continue\n",
    "                c = line[x]\n",
    "                if c not in '.@' and not c.isalpha():\n",
    "                    continue\n",
    "                heapq.heappush(queue, (d + 1, (x, y), doors))\n",
    "                seen.add((x, y))\n",
    "        all_paths[item] = item_paths\n",
    "    queue, seen = [(0, tuple(bots), frozenset())], set()\n",
    "    while queue:\n",
    "        d, items, keys = heapq.heappop(queue)\n",
    "        if (items, keys) in seen:\n",
    "            continue\n",
    "        if len(keys) == len(all_keys):\n",
    "            return d\n",
    "        seen.add((items, keys))\n",
    "        for i, item in enumerate(items):\n",
    "            for item2, value in all_paths[item].items():\n",
    "                d2, doors = value\n",
    "                if doors - keys:\n",
    "                    continue\n",
    "                items2 = list(items)\n",
    "                items2[i] = item2\n",
    "                heapq.heappush(queue, (d + d2, tuple(items2), keys | {item2}))"
   ]
  },
  {
   "cell_type": "code",
   "execution_count": 270,
   "metadata": {},
   "outputs": [
    {
     "data": {
      "text/plain": [
       "4954"
      ]
     },
     "execution_count": 270,
     "metadata": {},
     "output_type": "execute_result"
    }
   ],
   "source": [
    "\n",
    "from collections import defaultdict\n",
    "import fileinput\n",
    "import heapq\n",
    "\n",
    "\n",
    "part1(inputs)"
   ]
  },
  {
   "cell_type": "code",
   "execution_count": 276,
   "metadata": {},
   "outputs": [],
   "source": [
    "lines = [\"#########\",\"#b.A.@.a#\",\"#########\"]"
   ]
  },
  {
   "cell_type": "code",
   "execution_count": 277,
   "metadata": {},
   "outputs": [],
   "source": [
    "all_keys = {(x, y): c\n",
    "            for y, line in enumerate(lines) for x, c in enumerate(line)\n",
    "            if c.islower()}\n",
    "starts = dict(all_keys)"
   ]
  },
  {
   "cell_type": "code",
   "execution_count": 278,
   "metadata": {},
   "outputs": [
    {
     "data": {
      "text/plain": [
       "{(1, 1): 'b', (7, 1): 'a'}"
      ]
     },
     "execution_count": 278,
     "metadata": {},
     "output_type": "execute_result"
    }
   ],
   "source": [
    "all_keys"
   ]
  },
  {
   "cell_type": "code",
   "execution_count": 279,
   "metadata": {},
   "outputs": [
    {
     "data": {
      "text/plain": [
       "{(1, 1): 'b', (7, 1): 'a'}"
      ]
     },
     "execution_count": 279,
     "metadata": {},
     "output_type": "execute_result"
    }
   ],
   "source": [
    "starts"
   ]
  },
  {
   "cell_type": "code",
   "execution_count": 275,
   "metadata": {},
   "outputs": [],
   "source": [
    "maze_dict = {}\n",
    "key_dict = {}\n",
    "for y, line in enumerate(maze):\n",
    "    for x, val in enumerate(line):\n",
    "        maze_dict[(x, y)] = val\n",
    "        if val.islower():\n",
    "            key_dict[(x,y)]=val"
   ]
  }
 ],
 "metadata": {
  "kernelspec": {
   "display_name": "Python 3",
   "language": "python",
   "name": "python3"
  },
  "language_info": {
   "codemirror_mode": {
    "name": "ipython",
    "version": 3
   },
   "file_extension": ".py",
   "mimetype": "text/x-python",
   "name": "python",
   "nbconvert_exporter": "python",
   "pygments_lexer": "ipython3",
   "version": "3.7.4"
  }
 },
 "nbformat": 4,
 "nbformat_minor": 4
}
