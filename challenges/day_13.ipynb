{
 "cells": [
  {
   "cell_type": "markdown",
   "metadata": {},
   "source": [
    "# [Day 13: Care Package](https://adventofcode.com/2019/day/13)"
   ]
  },
  {
   "cell_type": "markdown",
   "metadata": {},
   "source": [
    "## Part 1\n",
    "\n",
    "As you ponder the solitude of space and the ever-increasing three-hour roundtrip for messages between you and Earth, you notice that the Space Mail Indicator Light is blinking. To help keep you sane, the Elves have sent you a care package.\n",
    "\n",
    "It's a new game for the ship's arcade cabinet! Unfortunately, the arcade is **all the way** on the other end of the ship. Surely, it won't be hard to build your own - the care package even comes with schematics.\n",
    "\n",
    "The arcade cabinet runs Intcode software like the game the Elves sent (your puzzle input). It has a primitive screen capable of drawing square **tiles** on a grid. The software draws tiles to the screen with output instructions: every three output instructions specify the `x` position (distance from the left), `y` position (distance from the top), and `tile id`. The `tile id` is interpreted as follows:\n",
    "- `0` is an **empty** tile. No game object appears in this tile.\n",
    "- `1` is a **wall** tile. Walls are indestructible barriers.\n",
    "- `2` is a **block** tile. Blocks can be broken by the ball.\n",
    "- `3` is a **horizontal paddle** tile. The paddle is indestructible.\n",
    "- `4` is a **ball** tile. The ball moves diagonally and bounces off objects.\n",
    "\n",
    "For example, a sequence of output values like `1,2,3,6,5,4` would draw a **horizontal paddle** tile (`1` tile from the left and `2` tiles from the top) and a **ball** tile (`6` tiles from the left and `5` tiles from the top).\n",
    "\n",
    "Start the game. **How many block tiles are on the screen when the game exits?**"
   ]
  },
  {
   "cell_type": "code",
   "execution_count": 9,
   "metadata": {},
   "outputs": [],
   "source": [
    "from pathlib import Path\n",
    "\n",
    "input_path = Path(\"..\") / \"inputs\" / \"day_13.txt\"\n",
    "inputs = input_path.read_text()\n",
    "inputs = inputs.split(\",\")\n",
    "inputs = [int(input_) for input_ in inputs]"
   ]
  },
  {
   "cell_type": "code",
   "execution_count": 10,
   "metadata": {},
   "outputs": [],
   "source": [
    "def make_chunks(lst, n):\n",
    "    \"\"\"Yield successive n-sized chunks from lst.\"\"\"\n",
    "    for i in range(0, len(lst), n):\n",
    "        yield lst[i:i + n]"
   ]
  },
  {
   "cell_type": "code",
   "execution_count": 11,
   "metadata": {},
   "outputs": [],
   "source": [
    "from collections import Counter\n",
    "\n",
    "from computer import Computer"
   ]
  },
  {
   "cell_type": "code",
   "execution_count": 12,
   "metadata": {},
   "outputs": [
    {
     "name": "stdout",
     "output_type": "stream",
     "text": [
      "CPU times: user 109 ms, sys: 0 ns, total: 109 ms\n",
      "Wall time: 108 ms\n"
     ]
    }
   ],
   "source": [
    "%%time\n",
    "computer = Computer(inputs, [])\n",
    "computer.run()\n",
    "results = computer.outputs\n",
    "\n",
    "chunks = make_chunks(results, 3)\n",
    "tiles = [chunk[2] for chunk in chunks]\n",
    "result = Counter(tiles)[2]"
   ]
  },
  {
   "cell_type": "code",
   "execution_count": 13,
   "metadata": {},
   "outputs": [
    {
     "name": "stdout",
     "output_type": "stream",
     "text": [
      "Answer to Part 1: 363\n"
     ]
    }
   ],
   "source": [
    "print(f\"Answer to Part 1: {result}\")"
   ]
  },
  {
   "cell_type": "markdown",
   "metadata": {},
   "source": [
    "## Part 2\n",
    "\n",
    "The game didn't run because you didn't put in any quarters. Unfortunately, you did not bring any quarters. Memory address `0` represents the number of quarters that have been inserted; set it to `2` to play for free.\n",
    "\n",
    "The arcade cabinet has a joystick that can move left and right. The software reads the position of the joystick with input instructions:\n",
    "- If the joystick is in the **neutral position**, provide `0`.\n",
    "- If the joystick is **tilted to the left**, provide `-1`.\n",
    "- If the joystick is **tilted to the right**, provide `1`.\n",
    "\n",
    "The arcade cabinet also has a segment display capable of showing a single number that represents the player's current score. When three output instructions specify `X=-1, Y=0`, the third output instruction is not a tile; the value instead specifies the new score to show in the segment display. For example, a sequence of output values like `-1,0,12345` would show `12345` as the player's current score.\n",
    "\n",
    "Beat the game by breaking all the blocks. **What is your score after the last block is broken?**"
   ]
  },
  {
   "cell_type": "code",
   "execution_count": 16,
   "metadata": {},
   "outputs": [
    {
     "name": "stdout",
     "output_type": "stream",
     "text": [
      "CPU times: user 4.91 s, sys: 0 ns, total: 4.91 s\n",
      "Wall time: 4.94 s\n"
     ]
    }
   ],
   "source": [
    "%%time\n",
    "inputs[0] = 2\n",
    "computer = Computer(inputs, [])\n",
    "\n",
    "results = {}\n",
    "while True:\n",
    "    try:\n",
    "        computer.run()\n",
    "    except IndexError:\n",
    "        pass\n",
    "    chunks = make_chunks(computer.outputs, 3)\n",
    "    computer.outputs = []\n",
    "    new_results = {tuple(i[:2]): i[2] for i in chunks}\n",
    "    results.update(new_results)\n",
    "    ball_x = [k for k, v in results.items() if v == 4][0][0]\n",
    "    paddle_x = [k for k, v in results.items() if v == 3][0][0]\n",
    "    if ball_x > paddle_x:        \n",
    "        computer.inputs.append(1)\n",
    "    elif ball_x < paddle_x:\n",
    "        computer.inputs.append(-1)\n",
    "    else:\n",
    "        computer.inputs.append(0)\n",
    "\n",
    "    if not sum(i == 2 for i in results.values()):\n",
    "        break\n",
    "result = results[(-1, 0)]"
   ]
  },
  {
   "cell_type": "code",
   "execution_count": 17,
   "metadata": {},
   "outputs": [
    {
     "name": "stdout",
     "output_type": "stream",
     "text": [
      "Answer to Part 2: 17159 (17,159)\n"
     ]
    }
   ],
   "source": [
    "print(f\"Answer to Part 2: {result} ({result:,})\")"
   ]
  }
 ],
 "metadata": {
  "kernelspec": {
   "display_name": "Python 3",
   "language": "python",
   "name": "python3"
  },
  "language_info": {
   "codemirror_mode": {
    "name": "ipython",
    "version": 3
   },
   "file_extension": ".py",
   "mimetype": "text/x-python",
   "name": "python",
   "nbconvert_exporter": "python",
   "pygments_lexer": "ipython3",
   "version": "3.7.4"
  }
 },
 "nbformat": 4,
 "nbformat_minor": 4
}
