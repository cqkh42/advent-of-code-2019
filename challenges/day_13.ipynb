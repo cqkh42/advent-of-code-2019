{
 "cells": [
  {
   "cell_type": "markdown",
   "metadata": {},
   "source": [
    "# Day 13: Care Package"
   ]
  },
  {
   "cell_type": "markdown",
   "metadata": {},
   "source": [
    "As you ponder the solitude of space and the ever-increasing three-hour roundtrip for messages between you and Earth, you notice that the Space Mail Indicator Light is blinking. To help keep you sane, the Elves have sent you a care package.\n",
    "\n",
    "It's a new game for the ship's arcade cabinet! Unfortunately, the arcade is **all the way** on the other end of the ship. Surely, it won't be hard to build your own - the care package even comes with schematics.\n",
    "\n",
    "The arcade cabinet runs Intcode software like the game the Elves sent (your puzzle input). It has a primitive screen capable of drawing square **tiles** on a grid. The software draws tiles to the screen with output instructions: every three output instructions specify the `x` position (distance from the left), `y` position (distance from the top), and `tile id`. The `tile id` is interpreted as follows:\n",
    "- `0` is an **empty** tile. No game object appears in this tile.\n",
    "- `1` is a **wall** tile. Walls are indestructible barriers.\n",
    "- `2` is a **block** tile. Blocks can be broken by the ball.\n",
    "- `3` is a **horizontal paddle** tile. The paddle is indestructible.\n",
    "- `4` is a **ball** tile. The ball moves diagonally and bounces off objects.\n",
    "\n",
    "For example, a sequence of output values like `1,2,3,6,5,4` would draw a **horizontal paddle** tile (`1` tile from the left and `2` tiles from the top) and a **ball** tile (`6` tiles from the left and `5` tiles from the top).\n",
    "\n",
    "Start the game. **How many block tiles are on the screen when the game exits?**"
   ]
  },
  {
   "cell_type": "code",
   "execution_count": 1,
   "metadata": {},
   "outputs": [],
   "source": [
    "from pathlib import Path\n",
    "\n",
    "input_path = Path(\"..\") / \"inputs\" / \"day_13.txt\"\n",
    "inputs = input_path.read_text()\n",
    "inputs = inputs.split(\",\")\n",
    "inputs = [int(input_) for input_ in inputs]"
   ]
  },
  {
   "cell_type": "code",
   "execution_count": 2,
   "metadata": {},
   "outputs": [],
   "source": [
    "def make_chunks(lst, n):\n",
    "    \"\"\"Yield successive n-sized chunks from lst.\"\"\"\n",
    "    for i in range(0, len(lst), n):\n",
    "        yield lst[i:i + n]"
   ]
  },
  {
   "cell_type": "code",
   "execution_count": 3,
   "metadata": {},
   "outputs": [],
   "source": [
    "from collections import Counter\n",
    "\n",
    "from computer import Computer"
   ]
  },
  {
   "cell_type": "code",
   "execution_count": 4,
   "metadata": {},
   "outputs": [
    {
     "data": {
      "text/plain": [
       "363"
      ]
     },
     "execution_count": 4,
     "metadata": {},
     "output_type": "execute_result"
    }
   ],
   "source": [
    "computer = Computer(inputs, [])\n",
    "computer.run()\n",
    "results = computer.outputs\n",
    "\n",
    "chunks = make_chunks(results, 3)\n",
    "tiles = [chunk[2] for chunk in chunks]\n",
    "Counter(tiles)[2]"
   ]
  },
  {
   "cell_type": "markdown",
   "metadata": {},
   "source": [
    "Answer to Part 1: **363**"
   ]
  },
  {
   "cell_type": "markdown",
   "metadata": {},
   "source": [
    "## Part 2\n",
    "\n",
    "The game didn't run because you didn't put in any quarters. Unfortunately, you did not bring any quarters. Memory address `0` represents the number of quarters that have been inserted; set it to `2` to play for free.\n",
    "\n",
    "The arcade cabinet has a joystick that can move left and right. The software reads the position of the joystick with input instructions:\n",
    "- If the joystick is in the **neutral position**, provide `0`.\n",
    "- If the joystick is **tilted to the left**, provide `-1`.\n",
    "- If the joystick is **tilted to the right**, provide `1`.\n",
    "\n",
    "The arcade cabinet also has a segment display capable of showing a single number that represents the player's current score. When three output instructions specify `X=-1, Y=0`, the third output instruction is not a tile; the value instead specifies the new score to show in the segment display. For example, a sequence of output values like `-1,0,12345` would show `12345` as the player's current score.\n",
    "\n",
    "Beat the game by breaking all the blocks. **What is your score after the last block is broken?**"
   ]
  },
  {
   "cell_type": "code",
   "execution_count": 5,
   "metadata": {},
   "outputs": [],
   "source": [
    "def find_ball(computer):\n",
    "    chunks = list(make_chunks(computer.outputs, 3))\n",
    "    chunks.reverse()\n",
    "    for chunk in chunks:\n",
    "        if chunk[2] == 4:\n",
    "            c = dict(zip([\"x\", \"y\"], chunk[:2]))\n",
    "            return c\n",
    "\n",
    "\n",
    "def find_paddle(computer):\n",
    "    chunks = list(make_chunks(computer.outputs, 3))\n",
    "    chunks.reverse()\n",
    "    for chunk in chunks:\n",
    "        if chunk[2] == 3:\n",
    "            c = dict(zip([\"x\", \"y\"], chunk[:2]))\n",
    "            return c\n",
    "\n",
    "def find_score(computer):\n",
    "    chunks = list(make_chunks(computer.outputs, 3))\n",
    "    chunks.reverse()\n",
    "    for chunk in chunks:\n",
    "        if chunk[0] == -1 and chunk[1] == 0:\n",
    "            return chunk[2]\n",
    "        \n",
    "def find_blocks(computer):\n",
    "    chunks = list(make_chunks(computer.outputs, 3))\n",
    "    chunks.reverse()\n",
    "    for chunk in chunks:\n",
    "        if chunk[2] == 2:\n",
    "            yield chunk[0], chunk[1]\n",
    "\n",
    "def find_clear(computer):\n",
    "    chunks = list(make_chunks(computer.outputs, 3))\n",
    "    chunks.reverse()\n",
    "    for chunk in chunks:\n",
    "        if chunk[2] == 0:\n",
    "            yield chunk[0], chunk[1]"
   ]
  },
  {
   "cell_type": "code",
   "execution_count": 6,
   "metadata": {},
   "outputs": [],
   "source": [
    "computer = Computer(inputs, [0])\n",
    "computer.run()\n",
    "blocks = find_blocks(computer)\n",
    "blocks = set(blocks)"
   ]
  },
  {
   "cell_type": "code",
   "execution_count": 7,
   "metadata": {},
   "outputs": [],
   "source": [
    "playing_inputs = inputs.copy()"
   ]
  },
  {
   "cell_type": "code",
   "execution_count": 8,
   "metadata": {},
   "outputs": [],
   "source": [
    "playing_inputs[0] = 2"
   ]
  },
  {
   "cell_type": "code",
   "execution_count": 9,
   "metadata": {},
   "outputs": [],
   "source": [
    "computer = Computer(playing_inputs, [0])"
   ]
  },
  {
   "cell_type": "code",
   "execution_count": 10,
   "metadata": {},
   "outputs": [
    {
     "name": "stdout",
     "output_type": "stream",
     "text": [
      "17159\n"
     ]
    }
   ],
   "source": [
    "remaining = len(blocks)\n",
    "while remaining:\n",
    "    try:\n",
    "        computer.run()\n",
    "    except IndexError:\n",
    "        pass\n",
    "    ball = find_ball(computer)\n",
    "    paddle = find_paddle(computer)\n",
    "    score = find_score(computer)\n",
    "    cleared = list(find_clear(computer))\n",
    "    \n",
    "    remaining = [i for i in blocks if i not in cleared]\n",
    "    if ball[\"x\"] > paddle[\"x\"]:\n",
    "        computer.inputs.append(1)\n",
    "    elif ball[\"x\"] < paddle[\"x\"]:\n",
    "        computer.inputs.append(-1)\n",
    "    else:\n",
    "        computer.inputs.append(0)\n",
    "print(score)"
   ]
  },
  {
   "cell_type": "markdown",
   "metadata": {},
   "source": [
    "Answer to Part 2: **17159**"
   ]
  }
 ],
 "metadata": {
  "kernelspec": {
   "display_name": "Python 3",
   "language": "python",
   "name": "python3"
  },
  "language_info": {
   "codemirror_mode": {
    "name": "ipython",
    "version": 3
   },
   "file_extension": ".py",
   "mimetype": "text/x-python",
   "name": "python",
   "nbconvert_exporter": "python",
   "pygments_lexer": "ipython3",
   "version": "3.7.2"
  }
 },
 "nbformat": 4,
 "nbformat_minor": 2
}
