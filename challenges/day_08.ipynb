{
 "cells": [
  {
   "cell_type": "markdown",
   "metadata": {},
   "source": [
    "# [Day 8: Space Image Format](https://adventofcode.com/2019/day/8)"
   ]
  },
  {
   "cell_type": "markdown",
   "metadata": {},
   "source": [
    "## Part 1\n",
    "\n",
    "The Elves' spirits are lifted when they realize you have an opportunity to reboot one of their Mars rovers, and so they are curious if you would spend a brief sojourn on Mars. You land your ship near the rover.\n",
    "\n",
    "When you reach the rover, you discover that it's already in the process of rebooting! It's just waiting for someone to enter a BIOS password. The Elf responsible for the rover takes a picture of the password (your puzzle input) and sends it to you via the Digital Sending Network.\n",
    "\n",
    "Unfortunately, images sent via the Digital Sending Network aren't encoded with any normal encoding; instead, they're encoded in a special Space Image Format. None of the Elves seem to remember why this is the case. They send you the instructions to decode it.\n",
    "\n",
    "Images are sent as a series of digits that each represent the color of a single pixel. The digits fill each row of the image left-to-right, then move downward to the next row, filling rows top-to-bottom until every pixel of the image is filled.\n",
    "\n",
    "Each image actually consists of a series of identically-sized **layers** that are filled in this way. So, the first digit corresponds to the top-left pixel of the first layer, the second digit corresponds to the pixel to the right of that on the same layer, and so on until the last digit, which corresponds to the bottom-right pixel of the last layer.\n",
    "\n",
    "For example, given an image 3 pixels wide and 2 pixels tall, the image data `123456789012` corresponds to the following image layers:\n",
    "\n",
    "```\n",
    "Layer 1: 123\n",
    "         456\n",
    "\n",
    "Layer 2: 789\n",
    "         012\n",
    "```\n",
    "\n",
    "The image you received is **`25` pixels wide and `6` pixels tall**.\n",
    "\n",
    "To make sure the image wasn't corrupted during transmission, the Elves would like you to find the layer that contains the **fewest `0` digits**. On that layer, what is **the number of `1` digits multiplied by the number of `2` digits?**"
   ]
  },
  {
   "cell_type": "code",
   "execution_count": 1,
   "metadata": {},
   "outputs": [],
   "source": [
    "from pathlib import Path\n",
    "\n",
    "input_path = Path(\"..\") / \"inputs\" / \"day_8.txt\"\n",
    "inputs = input_path.read_text()"
   ]
  },
  {
   "cell_type": "code",
   "execution_count": 2,
   "metadata": {},
   "outputs": [],
   "source": [
    "from collections import Counter"
   ]
  },
  {
   "cell_type": "code",
   "execution_count": 3,
   "metadata": {},
   "outputs": [],
   "source": [
    "def make_chunks(lst, n):\n",
    "    \"\"\"Yield successive n-sized chunks from lst.\"\"\"\n",
    "    for i in range(0, len(lst), n):\n",
    "        yield lst[i:i + n]"
   ]
  },
  {
   "cell_type": "code",
   "execution_count": 4,
   "metadata": {},
   "outputs": [],
   "source": [
    "chunks = make_chunks(inputs, 25*6)"
   ]
  },
  {
   "cell_type": "code",
   "execution_count": 5,
   "metadata": {},
   "outputs": [],
   "source": [
    "counters = [Counter(chunk) for chunk in chunks]"
   ]
  },
  {
   "cell_type": "code",
   "execution_count": 6,
   "metadata": {},
   "outputs": [],
   "source": [
    "scores = [(counter[\"0\"], counter[\"1\"] * counter[\"2\"]) for counter in counters]"
   ]
  },
  {
   "cell_type": "code",
   "execution_count": 7,
   "metadata": {},
   "outputs": [
    {
     "data": {
      "text/plain": [
       "(9, 1548)"
      ]
     },
     "execution_count": 7,
     "metadata": {},
     "output_type": "execute_result"
    }
   ],
   "source": [
    "min(scores, key=lambda counter: counter[0])"
   ]
  },
  {
   "cell_type": "markdown",
   "metadata": {},
   "source": [
    "Answer to Part 1: **1548**"
   ]
  },
  {
   "cell_type": "markdown",
   "metadata": {},
   "source": [
    "## Part 2\n",
    "\n",
    "Now you're ready to decode the image. The image is rendered by stacking the layers and aligning the pixels with the same positions in each layer. The digits indicate the color of the corresponding pixel: `0` is black, `1` is white, and `2` is transparent.\n",
    "\n",
    "The layers are rendered with the first layer in front and the last layer in back. So, if a given position has a transparent pixel in the first and second layers, a black pixel in the third layer, and a white pixel in the fourth layer, the final image would have a **black** pixel at that position.\n",
    "\n",
    "For example, given an image 2 pixels wide and 2 pixels tall, the image data `0222112222120000` corresponds to the following image layers:\n",
    "\n",
    "```\n",
    "Layer 1: 02\n",
    "         22\n",
    "\n",
    "Layer 2: 11\n",
    "         22\n",
    "\n",
    "Layer 3: 22\n",
    "         12\n",
    "\n",
    "Layer 4: 00\n",
    "         00\n",
    "```\n",
    "\n",
    "Then, the full image can be found by determining the top visible pixel in each position:\n",
    "- The top-left pixel is **black** because the top layer is `0`.\n",
    "- The top-right pixel is `white` because the top layer is `2` (transparent), but the second layer is `1`.\n",
    "- The bottom-left pixel is **white** because the top two layers are `2`, but the third layer is `1`.\n",
    "- The bottom-right pixel is **black** because the only visible pixel in that position is `0` (from layer 4).\n",
    "\n",
    "So, the final image looks like this:\n",
    "\n",
    "```\n",
    "01\n",
    "10\n",
    "```\n",
    "\n",
    "What message is produced after decoding your image?"
   ]
  },
  {
   "cell_type": "code",
   "execution_count": 8,
   "metadata": {},
   "outputs": [],
   "source": [
    "def flatten_message(message, width, height):\n",
    "    final_message = []\n",
    "\n",
    "    chunks = make_chunks(message, width * height)\n",
    "    pixels = zip(*chunks)\n",
    "    final_message = []\n",
    "    for pixel in pixels:\n",
    "        colours = [i for i in pixel if i != \"2\"]\n",
    "        if colours:\n",
    "            pixel = colours[0]\n",
    "        else:\n",
    "            pixel = \"2\"\n",
    "        final_message.append(pixel)\n",
    "    final_message = \"\".join(final_message)\n",
    "    return final_message"
   ]
  },
  {
   "cell_type": "code",
   "execution_count": 9,
   "metadata": {},
   "outputs": [],
   "source": [
    "def print_message(message, width):\n",
    "    chunks = make_chunks(message, width)\n",
    "    for chunk in chunks:\n",
    "        x = [i if i==\"1\" else \" \"for i in chunk]\n",
    "        print(\"\".join(x))"
   ]
  },
  {
   "cell_type": "markdown",
   "metadata": {},
   "source": [
    "### Test Cases"
   ]
  },
  {
   "cell_type": "code",
   "execution_count": 10,
   "metadata": {},
   "outputs": [],
   "source": [
    "test_cases = [\n",
    "    (\"0222112222120000\", 2, 2, \"0110\")\n",
    "]\n",
    "\n",
    "for input_, width, height, output in test_cases:\n",
    "    assert flatten_message(input_, width, height) == output"
   ]
  },
  {
   "cell_type": "code",
   "execution_count": 11,
   "metadata": {},
   "outputs": [
    {
     "name": "stdout",
     "output_type": "stream",
     "text": [
      " 11  1111 1  1 1  1  11  \n",
      "1  1 1    1 1  1  1 1  1 \n",
      "1    111  11   1  1 1  1 \n",
      "1    1    1 1  1  1 1111 \n",
      "1  1 1    1 1  1  1 1  1 \n",
      " 11  1111 1  1  11  1  1 \n"
     ]
    }
   ],
   "source": [
    "width=25\n",
    "height = 6\n",
    "result = flatten_message(inputs, width, height)\n",
    "print_message(result, width)"
   ]
  },
  {
   "cell_type": "markdown",
   "metadata": {},
   "source": [
    "Answer to Part 2: **CEKUA**"
   ]
  }
 ],
 "metadata": {
  "kernelspec": {
   "display_name": "Python 3",
   "language": "python",
   "name": "python3"
  },
  "language_info": {
   "codemirror_mode": {
    "name": "ipython",
    "version": 3
   },
   "file_extension": ".py",
   "mimetype": "text/x-python",
   "name": "python",
   "nbconvert_exporter": "python",
   "pygments_lexer": "ipython3",
   "version": "3.7.4"
  }
 },
 "nbformat": 4,
 "nbformat_minor": 4
}
