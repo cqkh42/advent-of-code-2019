{
 "cells": [
  {
   "cell_type": "markdown",
   "metadata": {},
   "source": [
    "# Day 11: Space Plice"
   ]
  },
  {
   "cell_type": "markdown",
   "metadata": {},
   "source": [
    "On the way to Jupiter, you're pulled over by the **Space Police**.\n",
    "\n",
    "\"Attention, unmarked spacecraft! You are in violation of Space Law! All spacecraft must have a clearly visible **registration identifier**! You have 24 hours to comply or be sent to Space Jail!\"\n",
    "\n",
    "Not wanting to be sent to Space Jail, you radio back to the Elves on Earth for help. Although it takes almost three hours for their reply signal to reach you, they send instructions for how to power up the **emergency hull painting robot** and even provide a small Intcode program (your puzzle input) that will cause it to paint your ship appropriately.\n",
    "\n",
    "There's just one problem: you don't have an emergency hull painting robot.\n",
    "\n",
    "You'll need to build a new emergency hull painting robot. The robot needs to be able to move around on the grid of square panels on the side of your ship, detect the color of its current panel, and paint its current panel **black** or **white**. (All of the panels are currently black.)\n",
    "\n",
    "The Intcode program will serve as the brain of the robot. The program uses input instructions to access the robot's camera: provide `0` if the robot is over a **black** panel or `1` if the robot is over a **white** panel. Then, the program will output two values:\n",
    "- First, it will output a value indicating the **color to paint the panel** the robot is over: `0` means to paint the panel **black**, and `1` means to paint the panel **white**.\n",
    "- Second, it will output a value indicating the **direction the robot should turn**: `0` means it should turn **left 90 degrees**, and `1` means it should turn **right 90 degrees**.\n",
    "\n",
    "After the robot turns, it should always move **forward exactly one panel**. The robot starts facing **up**.\n",
    "\n",
    "The robot will continue running for a while like this and halt when it is finished drawing. Do not restart the Intcode computer inside the robot during this process.\n",
    "\n",
    "For example, suppose the robot is about to start running. Drawing black panels as `.`, white panels as `#`, and the robot pointing the direction it is facing (`< ^ > v`), the initial state and region near the robot looks like this:\n",
    "\n",
    "```\n",
    ".....\n",
    ".....\n",
    "..^..\n",
    ".....\n",
    ".....\n",
    "```\n",
    "\n",
    "The panel under the robot (not visible here because a `^` is shown instead) is also black, and so any input instructions at this point should be provided `0`. Suppose the robot eventually outputs `1` (paint white) and then `0` (turn left). After taking these actions and moving forward one panel, the region now looks like this:\n",
    "\n",
    "```\n",
    ".....\n",
    ".....\n",
    ".<#..\n",
    ".....\n",
    ".....\n",
    "```\n",
    "\n",
    "Input instructions should still be provided `0`. Next, the robot might output `0` (paint black) and then `0` (turn left):\n",
    "\n",
    "```\n",
    ".....\n",
    ".....\n",
    "..#..\n",
    ".v...\n",
    ".....\n",
    "```\n",
    "\n",
    "After more outputs (`1,0`, `1,0`):\n",
    "\n",
    "```\n",
    ".....\n",
    ".....\n",
    "..^..\n",
    ".##..\n",
    ".....\n",
    "```\n",
    "\n",
    "The robot is now back where it started, but because it is now on a white panel, input instructions should be provided `1`. After several more outputs (`0,1`, `1,0`, `1,0`), the area looks like this:\n",
    "\n",
    "```\n",
    ".....\n",
    "..<#.\n",
    "...#.\n",
    ".##..\n",
    ".....\n",
    "```\n",
    "\n",
    "Before you deploy the robot, you should probably have an estimate of the area it will cover: specifically, you need to know the **number of panels it paints at least once**, regardless of color. In the example above, the robot painted **`6` panels** at least once. (It painted its starting panel twice, but that panel is still only counted once; it also never painted the panel it ended on.)\n",
    "\n",
    "Build a new emergency hull painting robot and run the Intcode program on it. **How many panels does it paint at least once?**"
   ]
  },
  {
   "cell_type": "code",
   "execution_count": 1,
   "metadata": {},
   "outputs": [],
   "source": [
    "from pathlib import Path\n",
    "\n",
    "input_path = Path(\"..\") / \"inputs\" / \"day_11.txt\"\n",
    "inputs = input_path.read_text()\n",
    "inputs = inputs.split(\",\")\n",
    "inputs = [int(input_) for input_ in inputs]"
   ]
  },
  {
   "cell_type": "code",
   "execution_count": 2,
   "metadata": {},
   "outputs": [],
   "source": [
    "from computer import Computer"
   ]
  },
  {
   "cell_type": "code",
   "execution_count": 3,
   "metadata": {},
   "outputs": [],
   "source": [
    "def calc_turn(direction, turn):\n",
    "    t = 90 if turn else - 90\n",
    "    return (direction + t) % 360"
   ]
  },
  {
   "cell_type": "code",
   "execution_count": 4,
   "metadata": {},
   "outputs": [],
   "source": [
    "def move(position, direction):\n",
    "    if direction == 0:\n",
    "        position = (position[0], position[1] + 1)\n",
    "    elif direction == 90:\n",
    "        position = (position[0] + 1, position[1])\n",
    "    elif direction == 180:\n",
    "        position = (position[0], position[1] - 1)\n",
    "    elif direction == 270:\n",
    "        position = (position[0] - 1, position[1])\n",
    "    \n",
    "    return position"
   ]
  },
  {
   "cell_type": "code",
   "execution_count": 5,
   "metadata": {},
   "outputs": [],
   "source": [
    "def process_square(computer, position, direction, results):\n",
    "    computer.inputs = [results.get(position, 0)]\n",
    "    computer.outputs = []\n",
    "    while len(computer.outputs) < 2:\n",
    "        computer.run_iteration()\n",
    "    colour, turn = computer.outputs\n",
    "    results[position] = colour\n",
    "    direction = calc_turn(direction, turn)\n",
    "    position = move(position, direction)\n",
    "    return computer, position, direction, results"
   ]
  },
  {
   "cell_type": "code",
   "execution_count": 6,
   "metadata": {},
   "outputs": [],
   "source": [
    "def run(start_colour):\n",
    "    # start on a square\n",
    "    position = (0, 0)\n",
    "    direction = 0\n",
    "    results = {position: start_colour}\n",
    "    computer = Computer(inputs, [])\n",
    "    while True:\n",
    "        try:\n",
    "            computer, position, direction, results = process_square(computer, position, direction, results)\n",
    "        except StopIteration:\n",
    "            return results"
   ]
  },
  {
   "cell_type": "code",
   "execution_count": 7,
   "metadata": {},
   "outputs": [
    {
     "data": {
      "text/plain": [
       "1564"
      ]
     },
     "execution_count": 7,
     "metadata": {},
     "output_type": "execute_result"
    }
   ],
   "source": [
    "result = run(0)\n",
    "len(result)"
   ]
  },
  {
   "cell_type": "markdown",
   "metadata": {},
   "source": [
    "Answer to Part 1: **1564**"
   ]
  },
  {
   "cell_type": "markdown",
   "metadata": {},
   "source": [
    "## Part 2\n",
    "\n",
    "You're not sure what it's trying to paint, but it's definitely not a **registration identifier**. The Space Police are getting impatient.\n",
    "\n",
    "Checking your external ship cameras again, you notice a white panel marked \"emergency hull painting robot starting panel\". The rest of the panels are **still black**, but it looks like the robot was expecting to **start on a white panel**, not a black one.\n",
    "\n",
    "Based on the Space Law Space Brochure that the Space Police attached to one of your windows, a valid registration identifier is always **eight capital letters**. After starting the robot on a single **white panel** instead, **what registration identifier does it paint** on your hull?"
   ]
  },
  {
   "cell_type": "code",
   "execution_count": 8,
   "metadata": {},
   "outputs": [],
   "source": [
    "results = run(1)"
   ]
  },
  {
   "cell_type": "code",
   "execution_count": 9,
   "metadata": {},
   "outputs": [],
   "source": [
    "from collections import defaultdict"
   ]
  },
  {
   "cell_type": "code",
   "execution_count": 10,
   "metadata": {},
   "outputs": [],
   "source": [
    "d = defaultdict(dict)"
   ]
  },
  {
   "cell_type": "code",
   "execution_count": 11,
   "metadata": {},
   "outputs": [],
   "source": [
    "for (x, y), colour in results.items():\n",
    "    d[y][x] = colour"
   ]
  },
  {
   "cell_type": "code",
   "execution_count": 12,
   "metadata": {},
   "outputs": [],
   "source": [
    "rows = []\n",
    "for key in sorted(d, key=lambda x: -x):\n",
    "    xs = d[key]\n",
    "    max_x = max(xs)\n",
    "    row = [\"X\" if xs.get(x, 0) else \" \" for x in range(0, max_x + 1)]\n",
    "    rows.append(row)"
   ]
  },
  {
   "cell_type": "code",
   "execution_count": 13,
   "metadata": {},
   "outputs": [
    {
     "name": "stdout",
     "output_type": "stream",
     "text": [
      " XXX  XXXX XXXX XXX   XX  XXXX XXXX XXX   \n",
      " X  X X    X    X  X X  X X    X    X  X   \n",
      " X  X XXX  XXX  X  X X    XXX  XXX  XXX    \n",
      " XXX  X    X    XXX  X    X    X    X  X  \n",
      " X X  X    X    X    X  X X    X    X  X \n",
      " X  X X    XXXX X     XX  X    XXXX XXX  \n"
     ]
    }
   ],
   "source": [
    "for row in rows:\n",
    "    print(\"\".join(row))"
   ]
  },
  {
   "cell_type": "markdown",
   "metadata": {},
   "source": [
    "Answer to Part 2: **RFEPCFEB**"
   ]
  }
 ],
 "metadata": {
  "kernelspec": {
   "display_name": "Python 3",
   "language": "python",
   "name": "python3"
  },
  "language_info": {
   "codemirror_mode": {
    "name": "ipython",
    "version": 3
   },
   "file_extension": ".py",
   "mimetype": "text/x-python",
   "name": "python",
   "nbconvert_exporter": "python",
   "pygments_lexer": "ipython3",
   "version": "3.7.4"
  }
 },
 "nbformat": 4,
 "nbformat_minor": 4
}
