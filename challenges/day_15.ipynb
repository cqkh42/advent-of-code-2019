{
 "cells": [
  {
   "cell_type": "markdown",
   "metadata": {},
   "source": [
    "# Day 15: Oxygen System"
   ]
  },
  {
   "cell_type": "markdown",
   "metadata": {},
   "source": [
    "## Part 1\n",
    "\n",
    "Out here in deep space, many things can go wrong. Fortunately, many of those things have indicator lights. Unfortunately, one of those lights is lit: the oxygen system for part of the ship has failed!\n",
    "\n",
    "According to the readouts, the oxygen system must have failed days ago after a rupture in oxygen tank two; that section of the ship was automatically sealed once oxygen levels went dangerously low. A single remotely-operated **repair droid** is your only option for fixing the oxygen system.\n",
    "\n",
    "The Elves' care package included an Intcode program (your puzzle input) that you can use to remotely control the repair droid. By running that program, you can direct the repair droid to the oxygen system and fix the problem.\n",
    "\n",
    "The remote control program executes the following steps in a loop forever:\n",
    "\n",
    "- Accept a **movement command** via an input instruction.\n",
    "- Send the movement command to the repair droid.\n",
    "- Wait for the repair droid to finish the movement operation.\n",
    "- Report on the **status** of the repair droid via an output instruction.\n",
    "\n",
    "Only four **movement commands** are understood: north (`1`), south (`2`), west (`3`), and east (`4`). Any other command is invalid. The movements differ in direction, but not in distance: in a long enough east-west hallway, a series of commands like `4,4,4,4,3,3,3,3` would leave the repair droid back where it started.\n",
    "\n",
    "The repair droid can reply with any of the following **status** codes:\n",
    "\n",
    "- `0`: The repair droid hit a wall. Its position has not changed.\n",
    "- `1`: The repair droid has moved one step in the requested direction.\n",
    "- `2`: The repair droid has moved one step in the requested direction; its new position is the location of the oxygen system.\n",
    "You don't know anything about the area around the repair droid, but you can figure it out by watching the status codes.\n",
    "\n",
    "For example, we can draw the area using `D` for the droid, `#` for walls, `.` for locations the droid can traverse, and empty space for unexplored locations. Then, the initial state looks like this:\n",
    "\n",
    "```      \n",
    "      \n",
    "   D  \n",
    "      \n",
    "```\n",
    "\n",
    "To make the droid go north, send it `1`. If it replies with `0`, you know that location is a wall and that the droid didn't move:\n",
    "\n",
    "```\n",
    "      \n",
    "   #  \n",
    "   D  \n",
    "      \n",
    "```\n",
    "\n",
    "To move east, send `4`; a reply of `1` means the movement was successful:\n",
    "\n",
    "```\n",
    "\n",
    "   #  \n",
    "   .D \n",
    "      \n",
    "```\n",
    "\n",
    "Then, perhaps attempts to move north (`1`), south (`2`), and east (`4`) are all met with replies of `0`:\n",
    "\n",
    "```\n",
    "\n",
    "   ## \n",
    "   .D#\n",
    "    # \n",
    "```\n",
    "\n",
    "Now, you know the repair droid is in a dead end. Backtrack with `3` (which you already know will get a reply of `1` because you already know that location is open):\n",
    "\n",
    "```\n",
    "\n",
    "   ## \n",
    "   D.#\n",
    "    # \n",
    "```\n",
    "\n",
    "Then, perhaps west (`3`) gets a reply of `0`, south (`2`) gets a reply of `1`, south again (`2`) gets a reply of `0`, and then west (`3`) gets a reply of `2`:\n",
    "\n",
    "```   \n",
    "   ## \n",
    "  #..#\n",
    "  D.# \n",
    "   #  \n",
    "```\n",
    "\n",
    "Now, because of the reply of `2`, you know you've found the **oxygen system**! In this example, it was only **`2`** moves away from the repair droid's starting position.\n",
    "\n",
    "**What is the fewest number of movement commands** required to move the repair droid from its starting position to the location of the oxygen system?"
   ]
  },
  {
   "cell_type": "code",
   "execution_count": 1,
   "metadata": {},
   "outputs": [],
   "source": [
    "from pathlib import Path\n",
    "\n",
    "input_path = Path(\"..\") / \"inputs\" / \"day_15.txt\"\n",
    "inputs = input_path.read_text()\n",
    "inputs = inputs.split(\",\")\n",
    "inputs = [int(input_) for input_ in inputs]"
   ]
  },
  {
   "cell_type": "code",
   "execution_count": 2,
   "metadata": {},
   "outputs": [],
   "source": [
    "from computer import Computer"
   ]
  },
  {
   "cell_type": "code",
   "execution_count": 3,
   "metadata": {},
   "outputs": [],
   "source": [
    "from collections import Counter, deque\n",
    "\n",
    "def path_to_coordinate(path):\n",
    "    counts = Counter(path)\n",
    "    x = counts.get(4, 0) - counts.get(3, 0)\n",
    "    y = counts.get(1, 0) - counts.get(2, 0)\n",
    "    return x, y"
   ]
  },
  {
   "cell_type": "code",
   "execution_count": 4,
   "metadata": {},
   "outputs": [],
   "source": [
    "def has_loop(path):\n",
    "    steps =  (path[:i] for i in range(1, len(path)+1))\n",
    "    visited = []\n",
    "    for p in steps:\n",
    "        coord = path_to_coordinate(p)\n",
    "        if coord in visited:\n",
    "            return True\n",
    "        else:\n",
    "            visited.append(coord)\n",
    "    return False"
   ]
  },
  {
   "cell_type": "code",
   "execution_count": 5,
   "metadata": {},
   "outputs": [],
   "source": [
    "import datetime"
   ]
  },
  {
   "cell_type": "code",
   "execution_count": 22,
   "metadata": {},
   "outputs": [
    {
     "name": "stdout",
     "output_type": "stream",
     "text": [
      "282\n"
     ]
    }
   ],
   "source": [
    "queue = deque([[1], [2], [3], [4]])\n",
    "visited = {(0,0): 0}\n",
    "p = 0\n",
    "while len(queue):\n",
    "    path = queue.popleft()\n",
    "    p+= 1\n",
    "    if has_loop(path):\n",
    "        continue\n",
    "    else:\n",
    "        nexts = [path + [i] for i in range(1, 5)]\n",
    "        l = len(path)\n",
    "        final_location = path_to_coordinate(path)\n",
    "        \n",
    "        computer = Computer(inputs, path)\n",
    "        try:\n",
    "            computer.run()\n",
    "        except IndexError:\n",
    "            pass\n",
    "\n",
    "        if computer.output == 2:\n",
    "            print(l)\n",
    "            queue.clear()\n",
    "            break\n",
    "        \n",
    "        elif computer.output == 1:\n",
    "            \n",
    "            if final_location not in visited or visited[final_location] > l:\n",
    "                visited[final_location] = l\n",
    "                queue.extend(nexts)\n"
   ]
  },
  {
   "cell_type": "code",
   "execution_count": 28,
   "metadata": {},
   "outputs": [
    {
     "name": "stdout",
     "output_type": "stream",
     "text": [
      "282\n"
     ]
    }
   ],
   "source": [
    "queue = deque([[1], [2], [3], [4]])\n",
    "visited = {(0,0): 0}\n",
    "p = 0\n",
    "while len(queue):\n",
    "\n",
    "    path = queue.pop()\n",
    "    l = len(path)\n",
    "    final_location = path_to_coordinate(path)\n",
    "    if visited.get(final_location, l) < l:\n",
    "        continue\n",
    "    else:\n",
    "        nexts = [path + [i] for i in range(1, 5)]\n",
    "\n",
    "        p += 1\n",
    "        computer = Computer(inputs, path.copy())\n",
    "        try:\n",
    "            computer.run()\n",
    "        except IndexError:\n",
    "            pass\n",
    "\n",
    "        if computer.output == 2:\n",
    "            print(l)\n",
    "            queue.clear()\n",
    "            break\n",
    "        \n",
    "        elif computer.output == 1:\n",
    "            visited[final_location] = l\n",
    "            queue.extend(nexts)\n"
   ]
  },
  {
   "cell_type": "markdown",
   "metadata": {},
   "source": [
    "Answer to Part 1: **282**"
   ]
  },
  {
   "cell_type": "markdown",
   "metadata": {},
   "source": [
    "## Part Two\n",
    "\n",
    "You quickly repair the oxygen system; oxygen gradually fills the area.\n",
    "\n",
    "Oxygen starts in the location containing the repaired oxygen system. It takes **one minute** for oxygen to spread to all open locations that are adjacent to a location that already contains oxygen. Diagonal locations are not adjacent.\n",
    "\n",
    "In the example above, suppose you've used the droid to explore the area fully and have the following map (where locations that currently contain oxygen are marked `O`):\n",
    "\n",
    "```\n",
    " ##   \n",
    "#..## \n",
    "#.#..#\n",
    "#.O.# \n",
    " ###\n",
    "```\n",
    "\n",
    "Initially, the only location which contains oxygen is the location of the repaired oxygen system. However, after one minute, the oxygen spreads to all open (`.`) locations that are adjacent to a location containing oxygen:\n",
    "\n",
    "```\n",
    " ##   \n",
    "#..## \n",
    "#.#..#\n",
    "#OOO# \n",
    " ###\n",
    "```\n",
    "\n",
    "After a total of two minutes, the map looks like this:\n",
    "\n",
    "```\n",
    " ##   \n",
    "#..## \n",
    "#O#O.#\n",
    "#OOO# \n",
    " ###\n",
    "```\n",
    "\n",
    "After a total of three minutes:\n",
    "\n",
    "```\n",
    " ##   \n",
    "#O.## \n",
    "#O#OO#\n",
    "#OOO# \n",
    " ###  \n",
    "```\n",
    "\n",
    "And finally, the whole region is full of oxygen after a total of four minutes:\n",
    "\n",
    "```\n",
    " ##   \n",
    "#OO## \n",
    "#O#OO#\n",
    "#OOO# \n",
    " ###\n",
    "```\n",
    "\n",
    "So, in this example, all locations contain oxygen after **`4`** minutes.\n",
    "\n",
    "Use the repair droid to get a complete map of the area. **How many minutes will it take to fill with oxygen?**"
   ]
  },
  {
   "cell_type": "code",
   "execution_count": 29,
   "metadata": {},
   "outputs": [],
   "source": [
    "starters = [path + [i] for i in range(1, 5)]"
   ]
  },
  {
   "cell_type": "code",
   "execution_count": 31,
   "metadata": {},
   "outputs": [],
   "source": [
    "queue = deque(starters)\n",
    "visited = {path_to_coordinate(path): 0}\n",
    "p = 0\n",
    "while len(queue):\n",
    "\n",
    "    path = queue.pop()\n",
    "    l = len(path)\n",
    "    final_location = path_to_coordinate(path)\n",
    "    if visited.get(final_location, l) < l:\n",
    "        continue\n",
    "    else:\n",
    "        nexts = [path + [i] for i in range(1, 5)]\n",
    "\n",
    "        p += 1\n",
    "        computer = Computer(inputs, path)\n",
    "        try:\n",
    "            computer.run()\n",
    "        except IndexError:\n",
    "            pass\n",
    "        \n",
    "        if computer.output == 1:\n",
    "            visited[final_location] = l\n",
    "            queue.extend(nexts)\n"
   ]
  },
  {
   "cell_type": "code",
   "execution_count": 38,
   "metadata": {},
   "outputs": [
    {
     "data": {
      "text/plain": [
       "286"
      ]
     },
     "execution_count": 38,
     "metadata": {},
     "output_type": "execute_result"
    }
   ],
   "source": [
    "max(visited.values()) - 282"
   ]
  },
  {
   "cell_type": "markdown",
   "metadata": {},
   "source": [
    "Answer to Part 2: **286**"
   ]
  }
 ],
 "metadata": {
  "kernelspec": {
   "display_name": "Python 3",
   "language": "python",
   "name": "python3"
  },
  "language_info": {
   "codemirror_mode": {
    "name": "ipython",
    "version": 3
   },
   "file_extension": ".py",
   "mimetype": "text/x-python",
   "name": "python",
   "nbconvert_exporter": "python",
   "pygments_lexer": "ipython3",
   "version": "3.7.2"
  }
 },
 "nbformat": 4,
 "nbformat_minor": 2
}
